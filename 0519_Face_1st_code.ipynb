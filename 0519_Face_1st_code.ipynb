{
 "cells": [
  {
   "cell_type": "markdown",
   "id": "78a82c24",
   "metadata": {
    "id": "78a82c24"
   },
   "source": [
    "# 생체인증보안 1871085 얼굴 1차 코드"
   ]
  },
  {
   "cell_type": "code",
   "execution_count": 1,
   "id": "ed601cff",
   "metadata": {},
   "outputs": [
    {
     "name": "stdout",
     "output_type": "stream",
     "text": [
      "[name: \"/device:CPU:0\"\n",
      "device_type: \"CPU\"\n",
      "memory_limit: 268435456\n",
      "locality {\n",
      "}\n",
      "incarnation: 4927892095342710084\n",
      ", name: \"/device:GPU:0\"\n",
      "device_type: \"GPU\"\n",
      "memory_limit: 10768720896\n",
      "locality {\n",
      "  bus_id: 1\n",
      "  links {\n",
      "  }\n",
      "}\n",
      "incarnation: 6039014614259174462\n",
      "physical_device_desc: \"device: 0, name: GeForce GTX 1080 Ti, pci bus id: 0000:09:00.0, compute capability: 6.1\"\n",
      "]\n"
     ]
    }
   ],
   "source": [
    "import tensorflow as tf\n",
    "from tensorflow.python.client import device_lib\n",
    "print(device_lib.list_local_devices())\n",
    "#tf.debugging.set_log_device_placement(True)\n",
    "gpus = tf.config.experimental.list_physical_devices('GPU')\n",
    "if gpus:\n",
    "  try:\n",
    "    tf.config.experimental.set_memory_growth(gpus[0], True)\n",
    "  except RuntimeError as e:\n",
    "    # 프로그램 시작시에 메모리 증가가 설정되어야만 합니다\n",
    "    print(e)"
   ]
  },
  {
   "cell_type": "code",
   "execution_count": 216,
   "id": "7a1377ae",
   "metadata": {
    "executionInfo": {
     "elapsed": 578,
     "status": "ok",
     "timestamp": 1620993151676,
     "user": {
      "displayName": "Y",
      "photoUrl": "",
      "userId": "04440835115869052992"
     },
     "user_tz": -540
    },
    "id": "7a1377ae"
   },
   "outputs": [],
   "source": [
    "# 라이브러리 import\n",
    "import PIL.Image as pilimg\n",
    "import numpy as np\n",
    "import glob\n",
    "import matplotlib.pyplot as plt\n",
    "import re"
   ]
  },
  {
   "cell_type": "code",
   "execution_count": 217,
   "id": "f55f0f37",
   "metadata": {
    "colab": {
     "base_uri": "https://localhost:8080/"
    },
    "executionInfo": {
     "elapsed": 543,
     "status": "ok",
     "timestamp": 1620993152028,
     "user": {
      "displayName": "Y",
      "photoUrl": "",
      "userId": "04440835115869052992"
     },
     "user_tz": -540
    },
    "id": "f55f0f37",
    "outputId": "41de9b6a-5130-4f00-f0ea-e8f89ed95e39"
   },
   "outputs": [
    {
     "data": {
      "text/plain": [
       "1050"
      ]
     },
     "execution_count": 217,
     "metadata": {},
     "output_type": "execute_result"
    }
   ],
   "source": [
    "# 이미지 목록\n",
    "images = glob.glob('./02_face_training/*.BMP')\n",
    "len(images)"
   ]
  },
  {
   "cell_type": "code",
   "execution_count": 218,
   "id": "7356061e",
   "metadata": {
    "executionInfo": {
     "elapsed": 2393,
     "status": "ok",
     "timestamp": 1620993155868,
     "user": {
      "displayName": "Y",
      "photoUrl": "",
      "userId": "04440835115869052992"
     },
     "user_tz": -540
    },
    "id": "7356061e"
   },
   "outputs": [],
   "source": [
    "r = re.compile('\\d+')\n",
    "\n",
    "img = [] # 이미지\n",
    "label = [] # 라벨\n",
    "\n",
    "for fname in images:\n",
    "    l = r.findall(fname)[1]\n",
    "    label.append(l)\n",
    "    im = pilimg.open(fname)\n",
    "    pix = np.array(im)/255. # Normalize\n",
    "    img.append(pix)"
   ]
  },
  {
   "cell_type": "code",
   "execution_count": 219,
   "id": "8fc621f1",
   "metadata": {
    "colab": {
     "base_uri": "https://localhost:8080/"
    },
    "executionInfo": {
     "elapsed": 2030,
     "status": "ok",
     "timestamp": 1620993155870,
     "user": {
      "displayName": "Y",
      "photoUrl": "",
      "userId": "04440835115869052992"
     },
     "user_tz": -540
    },
    "id": "8fc621f1",
    "outputId": "50135bf7-4fa7-4071-f83d-a55fcc3946d7"
   },
   "outputs": [
    {
     "data": {
      "text/plain": [
       "(1050, 56, 46, 1)"
      ]
     },
     "execution_count": 219,
     "metadata": {},
     "output_type": "execute_result"
    }
   ],
   "source": [
    "X = np.array(img)\n",
    "X = X.reshape(X.shape[0],56,46,1)\n",
    "X.shape # img shape"
   ]
  },
  {
   "cell_type": "code",
   "execution_count": 220,
   "id": "fe1d9359",
   "metadata": {
    "colab": {
     "base_uri": "https://localhost:8080/"
    },
    "executionInfo": {
     "elapsed": 1672,
     "status": "ok",
     "timestamp": 1620993155870,
     "user": {
      "displayName": "Y",
      "photoUrl": "",
      "userId": "04440835115869052992"
     },
     "user_tz": -540
    },
    "id": "fe1d9359",
    "outputId": "a2a13807-b612-45f7-e72a-34061485323c"
   },
   "outputs": [
    {
     "data": {
      "text/plain": [
       "array([132, 289, 283, ..., 144, 270, 260], dtype=int32)"
      ]
     },
     "execution_count": 220,
     "metadata": {},
     "output_type": "execute_result"
    }
   ],
   "source": [
    "y = np.array(label, dtype='int32')\n",
    "y # label"
   ]
  },
  {
   "cell_type": "code",
   "execution_count": 221,
   "id": "_OWth_iUQySK",
   "metadata": {
    "colab": {
     "base_uri": "https://localhost:8080/"
    },
    "executionInfo": {
     "elapsed": 1393,
     "status": "ok",
     "timestamp": 1620993155870,
     "user": {
      "displayName": "Y",
      "photoUrl": "",
      "userId": "04440835115869052992"
     },
     "user_tz": -540
    },
    "id": "_OWth_iUQySK",
    "outputId": "26d8e248-86ae-49c4-a614-0c6033224e42"
   },
   "outputs": [
    {
     "data": {
      "text/plain": [
       "(56, 46, 1)"
      ]
     },
     "execution_count": 221,
     "metadata": {},
     "output_type": "execute_result"
    }
   ],
   "source": [
    "X[0].shape"
   ]
  },
  {
   "cell_type": "code",
   "execution_count": 222,
   "id": "59973048",
   "metadata": {
    "colab": {
     "base_uri": "https://localhost:8080/",
     "height": 317
    },
    "executionInfo": {
     "elapsed": 1608,
     "status": "ok",
     "timestamp": 1620993156356,
     "user": {
      "displayName": "Y",
      "photoUrl": "",
      "userId": "04440835115869052992"
     },
     "user_tz": -540
    },
    "id": "59973048",
    "outputId": "b734c067-7978-4df6-93b2-28855cf80780"
   },
   "outputs": [
    {
     "name": "stdout",
     "output_type": "stream",
     "text": [
      "(56, 46, 1)\n",
      "132\n"
     ]
    },
    {
     "data": {
      "image/png": "[encoded data removed]",
      "text/plain": [
       "<Figure size 432x288 with 1 Axes>"
      ]
     },
     "metadata": {
      "needs_background": "light"
     },
     "output_type": "display_data"
    }
   ],
   "source": [
    "# 얼굴 이미지\n",
    "plt.title('Face')\n",
    "plt.imshow(X[0].reshape(56,46), cmap='gray')\n",
    "print(X[0].shape)\n",
    "print(y[0])"
   ]
  },
  {
   "cell_type": "code",
   "execution_count": 223,
   "id": "76a6f3b2",
   "metadata": {
    "colab": {
     "base_uri": "https://localhost:8080/"
    },
    "executionInfo": {
     "elapsed": 573,
     "status": "ok",
     "timestamp": 1620993160344,
     "user": {
      "displayName": "Y",
      "photoUrl": "",
      "userId": "04440835115869052992"
     },
     "user_tz": -540
    },
    "id": "76a6f3b2",
    "outputId": "16fe09ed-662c-4d47-bee0-2f6e3c30533d"
   },
   "outputs": [
    {
     "data": {
      "text/plain": [
       "(1050, 56, 46, 1)"
      ]
     },
     "execution_count": 223,
     "metadata": {},
     "output_type": "execute_result"
    }
   ],
   "source": [
    "X.shape"
   ]
  },
  {
   "cell_type": "markdown",
   "id": "6e68a399",
   "metadata": {
    "id": "6e68a399"
   },
   "source": [
    "## Data Augmentation"
   ]
  },
  {
   "cell_type": "code",
   "execution_count": 224,
   "id": "5ee9ef80",
   "metadata": {
    "executionInfo": {
     "elapsed": 636,
     "status": "ok",
     "timestamp": 1620993161825,
     "user": {
      "displayName": "Y",
      "photoUrl": "",
      "userId": "04440835115869052992"
     },
     "user_tz": -540
    },
    "id": "5ee9ef80"
   },
   "outputs": [],
   "source": [
    "# !pip install imgaug"
   ]
  },
  {
   "cell_type": "code",
   "execution_count": 225,
   "id": "8072f979",
   "metadata": {
    "executionInfo": {
     "elapsed": 2122,
     "status": "ok",
     "timestamp": 1620993163556,
     "user": {
      "displayName": "Y",
      "photoUrl": "",
      "userId": "04440835115869052992"
     },
     "user_tz": -540
    },
    "id": "8072f979"
   },
   "outputs": [],
   "source": [
    "from imgaug import augmenters as iaa"
   ]
  },
  {
   "cell_type": "code",
   "execution_count": 226,
   "id": "1ce4d6e2",
   "metadata": {
    "executionInfo": {
     "elapsed": 1860,
     "status": "ok",
     "timestamp": 1620993163558,
     "user": {
      "displayName": "Y",
      "photoUrl": "",
      "userId": "04440835115869052992"
     },
     "user_tz": -540
    },
    "id": "1ce4d6e2"
   },
   "outputs": [],
   "source": [
    "seq = iaa.Sequential([\n",
    "    # blur images with a sigma of 0 to 0.1\n",
    "    iaa.GaussianBlur(sigma=(0, 0.1)),\n",
    "    iaa.Affine(\n",
    "        # scale images to 90-110% of their size, individually per axis\n",
    "        scale={\"x\": (0.9, 1.1), \"y\": (0.9, 1.1)},\n",
    "        # translate by -10 to +10 percent (per axis)\n",
    "        translate_percent={\"x\": (-0.01, 0.01), \"y\": (-0.01, 0.01)},\n",
    "        # rotate by -5 to +5 degrees\n",
    "        rotate=(-5, 5),\n",
    "        # use nearest neighbour or bilinear interpolation (fast)\n",
    "        order=[0, 1],\n",
    "        # if mode is constant, use a cval between 0 and 255\n",
    "        cval=0\n",
    "    )\n",
    "], random_order=True)\n",
    "\n",
    "def aug_data(X_data, y_data):\n",
    "    augmentated_data = [] # 생성한 이미지\n",
    "    augmentated_label = [] # 생성한 이미지의 라벨\n",
    "    for i in range(len(X)):\n",
    "        augs = [X[i]] * 9 # 이미지당 9개 추가 생성\n",
    "        augs = seq.augment_images(augs)\n",
    "        for aug in augs:\n",
    "            augmentated_data.append(aug)\n",
    "            augmentated_label.append(y_data[i])\n",
    "    \n",
    "    return augmentated_data, augmentated_label"
   ]
  },
  {
   "cell_type": "code",
   "execution_count": 227,
   "id": "92bdd91f",
   "metadata": {
    "executionInfo": {
     "elapsed": 5571,
     "status": "ok",
     "timestamp": 1620993167612,
     "user": {
      "displayName": "Y",
      "photoUrl": "",
      "userId": "04440835115869052992"
     },
     "user_tz": -540
    },
    "id": "92bdd91f"
   },
   "outputs": [],
   "source": [
    "x_d, y_d = aug_data(X, y) # 이미지 생성"
   ]
  },
  {
   "cell_type": "code",
   "execution_count": 228,
   "id": "44d12c64",
   "metadata": {
    "colab": {
     "base_uri": "https://localhost:8080/"
    },
    "executionInfo": {
     "elapsed": 4691,
     "status": "ok",
     "timestamp": 1620993167614,
     "user": {
      "displayName": "Y",
      "photoUrl": "",
      "userId": "04440835115869052992"
     },
     "user_tz": -540
    },
    "id": "44d12c64",
    "outputId": "831be187-2d49-493d-b700-5bfeb0a3024c"
   },
   "outputs": [
    {
     "name": "stdout",
     "output_type": "stream",
     "text": [
      "9450 9450\n"
     ]
    }
   ],
   "source": [
    "print(len(x_d), len(y_d))"
   ]
  },
  {
   "cell_type": "code",
   "execution_count": 230,
   "id": "2b65e5ed",
   "metadata": {
    "colab": {
     "base_uri": "https://localhost:8080/",
     "height": 317
    },
    "executionInfo": {
     "elapsed": 4246,
     "status": "ok",
     "timestamp": 1620993167614,
     "user": {
      "displayName": "Y",
      "photoUrl": "",
      "userId": "04440835115869052992"
     },
     "user_tz": -540
    },
    "id": "2b65e5ed",
    "outputId": "2fd7b9ea-613f-4c34-b11a-13206fcd5154"
   },
   "outputs": [
    {
     "name": "stdout",
     "output_type": "stream",
     "text": [
      "(56, 46, 1)\n",
      "132\n"
     ]
    },
    {
     "data": {
      "image/png": "[encoded data removed]",
      "text/plain": [
       "<Figure size 432x288 with 1 Axes>"
      ]
     },
     "metadata": {
      "needs_background": "light"
     },
     "output_type": "display_data"
    }
   ],
   "source": [
    "# 생성한 얼굴 이미지\n",
    "plt.title('Augmented face')\n",
    "plt.imshow(x_d[1].reshape(56,46), cmap='gray')\n",
    "print(x_d[1].shape)\n",
    "print(y_d[1])"
   ]
  },
  {
   "cell_type": "code",
   "execution_count": 231,
   "id": "1ca8c5f1",
   "metadata": {
    "colab": {
     "base_uri": "https://localhost:8080/"
    },
    "executionInfo": {
     "elapsed": 935,
     "status": "ok",
     "timestamp": 1620993172847,
     "user": {
      "displayName": "Y",
      "photoUrl": "",
      "userId": "04440835115869052992"
     },
     "user_tz": -540
    },
    "id": "1ca8c5f1",
    "outputId": "ad43389d-230c-4fca-bfc0-da7e8fb552c2"
   },
   "outputs": [
    {
     "name": "stdout",
     "output_type": "stream",
     "text": [
      "(9450, 56, 46, 1)\n",
      "(9450,)\n"
     ]
    }
   ],
   "source": [
    "# 생성한 이미지\n",
    "x_d = np.array(x_d)\n",
    "y_d = np.array(y_d)\n",
    "print(x_d.shape)\n",
    "print(y_d.shape)"
   ]
  },
  {
   "cell_type": "code",
   "execution_count": 232,
   "id": "69594a1b",
   "metadata": {
    "colab": {
     "base_uri": "https://localhost:8080/"
    },
    "executionInfo": {
     "elapsed": 599,
     "status": "ok",
     "timestamp": 1620993172847,
     "user": {
      "displayName": "Y",
      "photoUrl": "",
      "userId": "04440835115869052992"
     },
     "user_tz": -540
    },
    "id": "69594a1b",
    "outputId": "487b48ea-b0f2-4c36-d43d-fcae288570d5"
   },
   "outputs": [
    {
     "name": "stdout",
     "output_type": "stream",
     "text": [
      "(1050, 56, 46, 1)\n",
      "(1050,)\n"
     ]
    }
   ],
   "source": [
    "# 기존 이미지\n",
    "print(X.shape)\n",
    "print(y.shape)"
   ]
  },
  {
   "cell_type": "code",
   "execution_count": 233,
   "id": "3f0aaf4e",
   "metadata": {
    "colab": {
     "base_uri": "https://localhost:8080/"
    },
    "executionInfo": {
     "elapsed": 708,
     "status": "ok",
     "timestamp": 1620993173208,
     "user": {
      "displayName": "Y",
      "photoUrl": "",
      "userId": "04440835115869052992"
     },
     "user_tz": -540
    },
    "id": "3f0aaf4e",
    "outputId": "42ecef26-34d9-496f-a195-150d80ed8ca1"
   },
   "outputs": [
    {
     "name": "stdout",
     "output_type": "stream",
     "text": [
      "(10500, 56, 46, 1)\n",
      "(10500,)\n"
     ]
    }
   ],
   "source": [
    "# 기존 이미지, 생성 이미지 합치기\n",
    "X_data = np.concatenate([X, x_d], axis=0)\n",
    "y_data = np.concatenate([y, y_d], axis=0)\n",
    "print(X_data.shape)\n",
    "print(y_data.shape)"
   ]
  },
  {
   "cell_type": "markdown",
   "id": "5d3b208a",
   "metadata": {
    "id": "5d3b208a"
   },
   "source": [
    "# Data split"
   ]
  },
  {
   "cell_type": "code",
   "execution_count": 189,
   "id": "10c18872",
   "metadata": {
    "executionInfo": {
     "elapsed": 841,
     "status": "ok",
     "timestamp": 1620993174905,
     "user": {
      "displayName": "Y",
      "photoUrl": "",
      "userId": "04440835115869052992"
     },
     "user_tz": -540
    },
    "id": "10c18872"
   },
   "outputs": [],
   "source": [
    "from sklearn.model_selection import train_test_split\n",
    "X_train, X_test, y_train, y_test = train_test_split(X_data,y_data, test_size=0.1, shuffle=True, stratify=y_data, random_state=101)"
   ]
  },
  {
   "cell_type": "code",
   "execution_count": 190,
   "id": "35ba1680",
   "metadata": {
    "executionInfo": {
     "elapsed": 984,
     "status": "ok",
     "timestamp": 1620993175273,
     "user": {
      "displayName": "Y",
      "photoUrl": "",
      "userId": "04440835115869052992"
     },
     "user_tz": -540
    },
    "id": "35ba1680"
   },
   "outputs": [],
   "source": [
    "X_train=X_train.astype('float32')\n",
    "y_train=y_train.astype('int32')\n",
    "X_test=X_test.astype('float32')\n",
    "y_test=y_test.astype('int32')"
   ]
  },
  {
   "cell_type": "code",
   "execution_count": 191,
   "id": "64fcb013",
   "metadata": {
    "colab": {
     "base_uri": "https://localhost:8080/"
    },
    "executionInfo": {
     "elapsed": 774,
     "status": "ok",
     "timestamp": 1620993175274,
     "user": {
      "displayName": "Y",
      "photoUrl": "",
      "userId": "04440835115869052992"
     },
     "user_tz": -540
    },
    "id": "64fcb013",
    "outputId": "9a307647-09c0-4e89-99af-cd92ef705691"
   },
   "outputs": [
    {
     "name": "stdout",
     "output_type": "stream",
     "text": [
      "(9450, 56, 46, 1) (9450,) (1050, 56, 46, 1) (1050,)\n"
     ]
    }
   ],
   "source": [
    "X_train = X_train.reshape(X_train.shape[0],56,46,1)\n",
    "X_test = X_test.reshape(X_test.shape[0],56,46,1)\n",
    "print(X_train.shape, y_train.shape, X_test.shape, y_test.shape)"
   ]
  },
  {
   "cell_type": "code",
   "execution_count": 192,
   "id": "180099ff",
   "metadata": {
    "colab": {
     "base_uri": "https://localhost:8080/"
    },
    "executionInfo": {
     "elapsed": 553,
     "status": "ok",
     "timestamp": 1620993175274,
     "user": {
      "displayName": "Y",
      "photoUrl": "",
      "userId": "04440835115869052992"
     },
     "user_tz": -540
    },
    "id": "180099ff",
    "outputId": "7bd9434b-40c1-4bd7-8b7e-532a1befb171"
   },
   "outputs": [
    {
     "data": {
      "text/plain": [
       "(56, 46, 1)"
      ]
     },
     "execution_count": 192,
     "metadata": {},
     "output_type": "execute_result"
    }
   ],
   "source": [
    "# Input shape\n",
    "X_train[0].shape"
   ]
  },
  {
   "cell_type": "code",
   "execution_count": 193,
   "id": "f9G-cW_6S7XA",
   "metadata": {
    "executionInfo": {
     "elapsed": 3660,
     "status": "ok",
     "timestamp": 1620993178561,
     "user": {
      "displayName": "Y",
      "photoUrl": "",
      "userId": "04440835115869052992"
     },
     "user_tz": -540
    },
    "id": "f9G-cW_6S7XA"
   },
   "outputs": [],
   "source": [
    "from keras.utils import to_categorical\n",
    "y_train = to_categorical(y_train, num_classes=351)\n",
    "y_test = to_categorical(y_test, num_classes=351)"
   ]
  },
  {
   "cell_type": "markdown",
   "id": "e07e80eb",
   "metadata": {
    "id": "e07e80eb"
   },
   "source": [
    "# Model"
   ]
  },
  {
   "cell_type": "code",
   "execution_count": 194,
   "id": "3c602729",
   "metadata": {
    "executionInfo": {
     "elapsed": 562,
     "status": "ok",
     "timestamp": 1620993183898,
     "user": {
      "displayName": "Y",
      "photoUrl": "",
      "userId": "04440835115869052992"
     },
     "user_tz": -540
    },
    "id": "3c602729"
   },
   "outputs": [],
   "source": [
    "import tensorflow as tf\n",
    "from tensorflow.keras import Sequential\n",
    "from tensorflow.keras.layers import Conv2D, MaxPooling2D, BatchNormalization, Dense, Flatten, Dropout\n",
    "from sklearn.model_selection import StratifiedKFold"
   ]
  },
  {
   "cell_type": "code",
   "execution_count": 29,
   "id": "a971d07c",
   "metadata": {},
   "outputs": [],
   "source": [
    "# !pip install keras_vggface\n",
    "# !pip install keras_applications"
   ]
  },
  {
   "cell_type": "code",
   "execution_count": 195,
   "id": "03d54384",
   "metadata": {
    "colab": {
     "base_uri": "https://localhost:8080/"
    },
    "executionInfo": {
     "elapsed": 6193,
     "status": "ok",
     "timestamp": 1620993191671,
     "user": {
      "displayName": "Y",
      "photoUrl": "",
      "userId": "04440835115869052992"
     },
     "user_tz": -540
    },
    "id": "03d54384",
    "outputId": "967e7c91-b05c-46ff-cb14-ca58acca7e26",
    "scrolled": false
   },
   "outputs": [
    {
     "name": "stdout",
     "output_type": "stream",
     "text": [
      "Model: \"sequential_10\"\n",
      "_________________________________________________________________\n",
      "Layer (type)                 Output Shape              Param #   \n",
      "=================================================================\n",
      "conv2d_40 (Conv2D)           (None, 56, 46, 64)        320       \n",
      "_________________________________________________________________\n",
      "conv2d_41 (Conv2D)           (None, 56, 46, 64)        16448     \n",
      "_________________________________________________________________\n",
      "max_pooling2d_20 (MaxPooling (None, 28, 23, 64)        0         \n",
      "_________________________________________________________________\n",
      "conv2d_42 (Conv2D)           (None, 28, 23, 32)        8224      \n",
      "_________________________________________________________________\n",
      "conv2d_43 (Conv2D)           (None, 28, 23, 32)        4128      \n",
      "_________________________________________________________________\n",
      "max_pooling2d_21 (MaxPooling (None, 14, 11, 32)        0         \n",
      "_________________________________________________________________\n",
      "flatten_10 (Flatten)         (None, 4928)              0         \n",
      "_________________________________________________________________\n",
      "dense_32 (Dense)             (None, 512)               2523648   \n",
      "_________________________________________________________________\n",
      "dropout_6 (Dropout)          (None, 512)               0         \n",
      "_________________________________________________________________\n",
      "dense_33 (Dense)             (None, 64)                32832     \n",
      "_________________________________________________________________\n",
      "dense_34 (Dense)             (None, 351)               22815     \n",
      "=================================================================\n",
      "Total params: 2,608,415\n",
      "Trainable params: 2,608,415\n",
      "Non-trainable params: 0\n",
      "_________________________________________________________________\n"
     ]
    }
   ],
   "source": [
    "def build_model():\n",
    "    learning_rate = 0.00001\n",
    "    width = 56\n",
    "    height = 46\n",
    "    METRICS = [\n",
    "      tf.keras.metrics.CategoricalAccuracy(name='accuracy')\n",
    "    ]\n",
    "    model = Sequential()\n",
    "    model.add(Conv2D(filters=64, kernel_size=(2,2), padding='same', activation='relu', input_shape=(width,height,1)))\n",
    "    model.add(Conv2D(filters=64, kernel_size=(2,2), padding='same', activation='relu'))\n",
    "    model.add(MaxPooling2D(pool_size=(2,2)))\n",
    "    \n",
    "    model.add(Conv2D(filters=32, kernel_size=(2,2), padding='same', activation='relu')) \n",
    "    model.add(Conv2D(filters=32, kernel_size=(2,2), padding='same', activation='relu'))\n",
    "    model.add(MaxPooling2D(pool_size=(2,2)))\n",
    "\n",
    "    model.add(Flatten())\n",
    "    model.add(Dense(512, activation='relu'))\n",
    "    model.add(Dropout(0.1))\n",
    "    model.add(Dense(64, activation='relu', kernel_regularizer='l2'))\n",
    "    model.add(Dropout(0.1))\n",
    "    model.add(Dense(351, activation='softmax'))\n",
    "    model.compile(loss='categorical_crossentropy', optimizer='adam', metrics=['accuracy'])\n",
    "    return model\n",
    "\n",
    "model = build_model()\n",
    "model.summary()"
   ]
  },
  {
   "cell_type": "code",
   "execution_count": 197,
   "id": "b558d18e",
   "metadata": {
    "colab": {
     "base_uri": "https://localhost:8080/"
    },
    "executionInfo": {
     "elapsed": 88187,
     "status": "ok",
     "timestamp": 1620993287579,
     "user": {
      "displayName": "Y",
      "photoUrl": "",
      "userId": "04440835115869052992"
     },
     "user_tz": -540
    },
    "id": "b558d18e",
    "outputId": "1e32f88b-6fc3-4de3-8b11-8232929090d5",
    "scrolled": true
   },
   "outputs": [
    {
     "name": "stdout",
     "output_type": "stream",
     "text": [
      "Fold # 1\n",
      "(2363, 56, 46, 1)\n",
      "(2363, 351)\n",
      "Epoch 1/10\n",
      "222/222 [==============================] - 2s 8ms/step - loss: 2.5624 - accuracy: 0.3522 - val_loss: 1.1537 - val_accuracy: 0.6758\n",
      "Epoch 2/10\n",
      "222/222 [==============================] - 2s 8ms/step - loss: 0.8550 - accuracy: 0.7610 - val_loss: 0.4537 - val_accuracy: 0.8853\n",
      "Epoch 3/10\n",
      "222/222 [==============================] - 2s 8ms/step - loss: 0.4747 - accuracy: 0.8802 - val_loss: 0.3109 - val_accuracy: 0.9348\n",
      "Epoch 4/10\n",
      "222/222 [==============================] - 2s 8ms/step - loss: 0.3352 - accuracy: 0.9266 - val_loss: 0.3211 - val_accuracy: 0.9353\n",
      "Epoch 5/10\n",
      "222/222 [==============================] - 2s 8ms/step - loss: 0.2873 - accuracy: 0.9443 - val_loss: 0.2023 - val_accuracy: 0.9670\n",
      "Epoch 6/10\n",
      "222/222 [==============================] - 2s 8ms/step - loss: 0.2488 - accuracy: 0.9527 - val_loss: 0.1741 - val_accuracy: 0.9784\n",
      "Epoch 7/10\n",
      "222/222 [==============================] - 2s 7ms/step - loss: 0.2091 - accuracy: 0.9651 - val_loss: 0.1414 - val_accuracy: 0.9865\n",
      "Epoch 8/10\n",
      "222/222 [==============================] - 2s 8ms/step - loss: 0.2162 - accuracy: 0.9599 - val_loss: 0.1610 - val_accuracy: 0.9788\n",
      "Epoch 9/10\n",
      "222/222 [==============================] - 2s 8ms/step - loss: 0.1890 - accuracy: 0.9714 - val_loss: 0.1354 - val_accuracy: 0.9873\n",
      "Epoch 10/10\n",
      "222/222 [==============================] - 2s 8ms/step - loss: 0.1646 - accuracy: 0.9764 - val_loss: 0.1203 - val_accuracy: 0.9915\n",
      "Fold # 2\n",
      "(2363, 56, 46, 1)\n",
      "(2363, 351)\n",
      "Epoch 1/10\n",
      "222/222 [==============================] - 2s 8ms/step - loss: 0.2283 - accuracy: 0.9568 - val_loss: 0.1261 - val_accuracy: 0.9911\n",
      "Epoch 2/10\n",
      "222/222 [==============================] - 2s 7ms/step - loss: 0.1916 - accuracy: 0.9683 - val_loss: 0.1262 - val_accuracy: 0.9890\n",
      "Epoch 3/10\n",
      "222/222 [==============================] - 2s 7ms/step - loss: 0.1418 - accuracy: 0.9841 - val_loss: 0.1075 - val_accuracy: 0.9928\n",
      "Epoch 4/10\n",
      "222/222 [==============================] - 2s 8ms/step - loss: 0.1520 - accuracy: 0.9781 - val_loss: 0.1142 - val_accuracy: 0.9903\n",
      "Epoch 5/10\n",
      "222/222 [==============================] - 2s 7ms/step - loss: 0.1701 - accuracy: 0.9750 - val_loss: 0.1126 - val_accuracy: 0.9920\n",
      "Epoch 6/10\n",
      "222/222 [==============================] - 2s 7ms/step - loss: 0.1455 - accuracy: 0.9791 - val_loss: 0.1112 - val_accuracy: 0.9903\n",
      "Epoch 7/10\n",
      "222/222 [==============================] - 2s 8ms/step - loss: 0.1648 - accuracy: 0.9733 - val_loss: 0.1087 - val_accuracy: 0.9928\n",
      "Epoch 8/10\n",
      "222/222 [==============================] - 2s 8ms/step - loss: 0.1479 - accuracy: 0.9777 - val_loss: 0.1839 - val_accuracy: 0.9674\n",
      "Epoch 9/10\n",
      "222/222 [==============================] - 2s 8ms/step - loss: 0.1432 - accuracy: 0.9812 - val_loss: 0.0998 - val_accuracy: 0.9945\n",
      "Epoch 10/10\n",
      "222/222 [==============================] - 2s 8ms/step - loss: 0.1221 - accuracy: 0.9852 - val_loss: 0.1000 - val_accuracy: 0.9915\n",
      "Fold # 3\n",
      "(2362, 56, 46, 1)\n",
      "(2362, 351)\n",
      "Epoch 1/10\n",
      "222/222 [==============================] - 2s 8ms/step - loss: 0.1353 - accuracy: 0.9810 - val_loss: 0.0885 - val_accuracy: 0.9962\n",
      "Epoch 2/10\n",
      "222/222 [==============================] - 2s 8ms/step - loss: 0.1426 - accuracy: 0.9822 - val_loss: 0.0822 - val_accuracy: 0.9983\n",
      "Epoch 3/10\n",
      "222/222 [==============================] - 2s 8ms/step - loss: 0.1435 - accuracy: 0.9781 - val_loss: 0.0876 - val_accuracy: 0.9975\n",
      "Epoch 4/10\n",
      "222/222 [==============================] - 2s 7ms/step - loss: 0.1215 - accuracy: 0.9881 - val_loss: 0.0830 - val_accuracy: 0.9970\n",
      "Epoch 5/10\n",
      "222/222 [==============================] - 2s 8ms/step - loss: 0.1307 - accuracy: 0.9838 - val_loss: 0.1103 - val_accuracy: 0.9898\n",
      "Epoch 6/10\n",
      "222/222 [==============================] - 2s 8ms/step - loss: 0.1263 - accuracy: 0.9855 - val_loss: 0.0832 - val_accuracy: 0.9970\n",
      "Epoch 7/10\n",
      "222/222 [==============================] - 2s 8ms/step - loss: 0.1169 - accuracy: 0.9867 - val_loss: 0.0929 - val_accuracy: 0.9936\n",
      "Epoch 8/10\n",
      "222/222 [==============================] - 2s 8ms/step - loss: 0.1445 - accuracy: 0.9780 - val_loss: 0.0798 - val_accuracy: 0.9975\n",
      "Epoch 9/10\n",
      "222/222 [==============================] - 2s 7ms/step - loss: 0.1058 - accuracy: 0.9901 - val_loss: 0.0740 - val_accuracy: 0.9979\n",
      "Epoch 10/10\n",
      "222/222 [==============================] - 2s 7ms/step - loss: 0.1166 - accuracy: 0.9852 - val_loss: 0.0759 - val_accuracy: 0.9975\n",
      "Fold # 4\n",
      "(2362, 56, 46, 1)\n",
      "(2362, 351)\n",
      "Epoch 1/10\n",
      "222/222 [==============================] - 2s 8ms/step - loss: 0.1265 - accuracy: 0.9812 - val_loss: 0.0777 - val_accuracy: 0.9962\n",
      "Epoch 2/10\n",
      "222/222 [==============================] - 2s 8ms/step - loss: 0.1250 - accuracy: 0.9826 - val_loss: 0.0771 - val_accuracy: 0.9979\n",
      "Epoch 3/10\n",
      "222/222 [==============================] - 2s 8ms/step - loss: 0.1182 - accuracy: 0.9853 - val_loss: 0.0815 - val_accuracy: 0.9958\n",
      "Epoch 4/10\n",
      "222/222 [==============================] - 2s 8ms/step - loss: 0.1019 - accuracy: 0.9901 - val_loss: 0.0718 - val_accuracy: 0.9979\n",
      "Epoch 5/10\n",
      "222/222 [==============================] - 2s 8ms/step - loss: 0.1144 - accuracy: 0.9860 - val_loss: 0.0898 - val_accuracy: 0.9928\n",
      "Epoch 6/10\n",
      "222/222 [==============================] - 2s 8ms/step - loss: 0.1277 - accuracy: 0.9824 - val_loss: 0.0868 - val_accuracy: 0.9949\n",
      "Epoch 7/10\n",
      "222/222 [==============================] - 2s 7ms/step - loss: 0.1242 - accuracy: 0.9846 - val_loss: 0.0892 - val_accuracy: 0.9958\n",
      "Epoch 8/10\n",
      "222/222 [==============================] - 2s 8ms/step - loss: 0.1100 - accuracy: 0.9890 - val_loss: 0.0710 - val_accuracy: 1.0000\n",
      "Epoch 9/10\n",
      "222/222 [==============================] - 2s 7ms/step - loss: 0.0913 - accuracy: 0.9924 - val_loss: 0.0789 - val_accuracy: 0.9958\n",
      "Epoch 10/10\n",
      "222/222 [==============================] - 2s 8ms/step - loss: 0.0854 - accuracy: 0.9918 - val_loss: 0.0616 - val_accuracy: 0.9996\n"
     ]
    }
   ],
   "source": [
    "# Cross validation\n",
    "from sklearn.model_selection import KFold\n",
    "\n",
    "kf = KFold(n_splits=4, shuffle=True, random_state=42)\n",
    "all_history = [] # 결과 저장\n",
    "\n",
    "def score_model(model, cv=None):\n",
    "    if cv is None:\n",
    "        cv = KFold(n_splits=4, random_state=42, shuffle=True)\n",
    "        \n",
    "    i=0\n",
    "    for train_fold_index, val_fold_index in cv.split(X_train, y_train):\n",
    "        i=i+1\n",
    "        print('Fold #',i)\n",
    "        # Get the training data\n",
    "        X_train_fold, y_train_fold = X_train[train_fold_index], y_train[train_fold_index]\n",
    "        # Get the validation data\n",
    "        X_val_fold, y_val_fold = X_train[val_fold_index], y_train[val_fold_index]\n",
    "        \n",
    "        x,y,z,w = X_train_fold.shape\n",
    "\n",
    "        print(X_val_fold.shape)\n",
    "        print(y_val_fold.shape)\n",
    "        \n",
    "        # Fit the model\n",
    "        model_obj = model.fit(X_train_fold, y_train_fold,\n",
    "                              epochs=10,\n",
    "                              validation_data=(X_val_fold, y_val_fold), \n",
    "                              verbose=1)\n",
    "        all_history.append(model_obj.history)\n",
    "\n",
    "# Example of the model in action\n",
    "score_model(model, cv=kf)\n",
    "model.save('./facemodelv7.h5')"
   ]
  },
  {
   "cell_type": "code",
   "execution_count": 198,
   "id": "9ee6ef69",
   "metadata": {
    "colab": {
     "base_uri": "https://localhost:8080/",
     "height": 1000
    },
    "executionInfo": {
     "elapsed": 1168,
     "status": "ok",
     "timestamp": 1620994876978,
     "user": {
      "displayName": "Y",
      "photoUrl": "",
      "userId": "04440835115869052992"
     },
     "user_tz": -540
    },
    "id": "9ee6ef69",
    "outputId": "77dae459-dbac-43e1-bc81-fad512c3e863"
   },
   "outputs": [
    {
     "data": {
      "image/png": "[encoded data removed]",
      "text/plain": [
       "<Figure size 432x288 with 1 Axes>"
      ]
     },
     "metadata": {
      "needs_background": "light"
     },
     "output_type": "display_data"
    },
    {
     "data": {
      "image/png": "[encoded data removed]",
      "text/plain": [
       "<Figure size 432x288 with 1 Axes>"
      ]
     },
     "metadata": {
      "needs_background": "light"
     },
     "output_type": "display_data"
    },
    {
     "data": {
      "image/png": "[encoded data removed]",
      "text/plain": [
       "<Figure size 432x288 with 1 Axes>"
      ]
     },
     "metadata": {
      "needs_background": "light"
     },
     "output_type": "display_data"
    },
    {
     "data": {
      "image/png": "[encoded data removed]",
      "text/plain": [
       "<Figure size 432x288 with 1 Axes>"
      ]
     },
     "metadata": {
      "needs_background": "light"
     },
     "output_type": "display_data"
    }
   ],
   "source": [
    "# Loss\n",
    "for i in range(4):\n",
    "    loss = all_history[i].get('loss') # train\n",
    "    val_loss = all_history[i].get('val_loss') # val\n",
    "    epochs = range(1, len(loss) + 1)\n",
    "    plt.plot(epochs, loss, 'b', label='Training loss')  # ‘b’는 파란색 실선을 의미합니다.\n",
    "    plt.plot(epochs, val_loss, 'g', label='Validation loss') # ‘g’는 초록색 실선을 의미합니다.\n",
    "    plt.title('Training and validation loss')\n",
    "    plt.xlabel('epochs')\n",
    "    plt.ylabel('Loss')\n",
    "    plt.legend()\n",
    "    plt.show()"
   ]
  },
  {
   "cell_type": "code",
   "execution_count": 199,
   "id": "sC83TeQ-vIKP",
   "metadata": {
    "colab": {
     "base_uri": "https://localhost:8080/",
     "height": 1000
    },
    "executionInfo": {
     "elapsed": 1236,
     "status": "ok",
     "timestamp": 1620993449458,
     "user": {
      "displayName": "Y",
      "photoUrl": "",
      "userId": "04440835115869052992"
     },
     "user_tz": -540
    },
    "id": "sC83TeQ-vIKP",
    "outputId": "e3e4aede-9bdd-4b9e-ccd3-f3f2d7f76111"
   },
   "outputs": [
    {
     "data": {
      "image/png": "[encoded data removed]",
      "text/plain": [
       "<Figure size 432x288 with 1 Axes>"
      ]
     },
     "metadata": {
      "needs_background": "light"
     },
     "output_type": "display_data"
    },
    {
     "data": {
      "image/png": "[encoded data removed]",
      "text/plain": [
       "<Figure size 432x288 with 1 Axes>"
      ]
     },
     "metadata": {
      "needs_background": "light"
     },
     "output_type": "display_data"
    },
    {
     "data": {
      "image/png": "[encoded data removed]",
      "text/plain": [
       "<Figure size 432x288 with 1 Axes>"
      ]
     },
     "metadata": {
      "needs_background": "light"
     },
     "output_type": "display_data"
    },
    {
     "data": {
      "image/png": "[encoded data removed]",
      "text/plain": [
       "<Figure size 432x288 with 1 Axes>"
      ]
     },
     "metadata": {
      "needs_background": "light"
     },
     "output_type": "display_data"
    }
   ],
   "source": [
    "# Accuracy\n",
    "for i in range(4):\n",
    "    loss = all_history[i].get('accuracy') # train\n",
    "    val_loss = all_history[i].get('val_accuracy') # val\n",
    "    epochs = range(1, len(loss) + 1)\n",
    "    plt.plot(epochs, loss, 'b', label='Training Accuracy')  # ‘b’는 파란색 실선을 의미합니다.\n",
    "    plt.plot(epochs, val_loss, 'g', label='Validation Accuracy') # ‘g’는 초록색 실선을 의미합니다.\n",
    "    plt.title('Training and validation Accuracy')\n",
    "    plt.xlabel('epochs')\n",
    "    plt.ylabel('Accuracy')\n",
    "    plt.legend()\n",
    "    plt.show()"
   ]
  },
  {
   "cell_type": "code",
   "execution_count": 200,
   "id": "j7j-6QbUvat1",
   "metadata": {
    "colab": {
     "base_uri": "https://localhost:8080/"
    },
    "executionInfo": {
     "elapsed": 566,
     "status": "ok",
     "timestamp": 1620993787105,
     "user": {
      "displayName": "Y",
      "photoUrl": "",
      "userId": "04440835115869052992"
     },
     "user_tz": -540
    },
    "id": "j7j-6QbUvat1",
    "outputId": "f88d2683-c7d6-4b80-cd6d-aa9b150e468c",
    "scrolled": true
   },
   "outputs": [
    {
     "data": {
      "text/plain": [
       "array([170, 225, 114, ..., 178,  34, 226])"
      ]
     },
     "execution_count": 200,
     "metadata": {},
     "output_type": "execute_result"
    }
   ],
   "source": [
    "preds = np.argmax(model.predict(X_test), axis=1)\n",
    "preds"
   ]
  },
  {
   "cell_type": "code",
   "execution_count": 201,
   "id": "nUFsgqtCvtex",
   "metadata": {
    "colab": {
     "base_uri": "https://localhost:8080/"
    },
    "executionInfo": {
     "elapsed": 583,
     "status": "ok",
     "timestamp": 1620993646844,
     "user": {
      "displayName": "Y",
      "photoUrl": "",
      "userId": "04440835115869052992"
     },
     "user_tz": -540
    },
    "id": "nUFsgqtCvtex",
    "outputId": "a80f8f38-85ea-4897-c2fc-0844338272a1"
   },
   "outputs": [
    {
     "data": {
      "text/plain": [
       "array([170, 225, 114, ..., 178,  34, 226])"
      ]
     },
     "execution_count": 201,
     "metadata": {},
     "output_type": "execute_result"
    }
   ],
   "source": [
    "y_test_origin = np.argmax(y_test, axis=1)\n",
    "y_test_origin"
   ]
  },
  {
   "cell_type": "code",
   "execution_count": 202,
   "id": "QJIjp9ILT-md",
   "metadata": {
    "colab": {
     "base_uri": "https://localhost:8080/",
     "height": 317
    },
    "executionInfo": {
     "elapsed": 784,
     "status": "ok",
     "timestamp": 1620993476058,
     "user": {
      "displayName": "Y",
      "photoUrl": "",
      "userId": "04440835115869052992"
     },
     "user_tz": -540
    },
    "id": "QJIjp9ILT-md",
    "outputId": "a6ec35ef-a7bf-46d7-9f42-c832be36c4c0"
   },
   "outputs": [
    {
     "name": "stdout",
     "output_type": "stream",
     "text": [
      "(56, 46)\n",
      "예측:  170\n",
      "실제:  170\n"
     ]
    },
    {
     "data": {
      "image/png": "[encoded data removed]",
      "text/plain": [
       "<Figure size 432x288 with 1 Axes>"
      ]
     },
     "metadata": {
      "needs_background": "light"
     },
     "output_type": "display_data"
    }
   ],
   "source": [
    "# 예측결과\n",
    "plt.title('predicted face')\n",
    "this_img = X_test[0].reshape(56,46)\n",
    "plt.imshow(this_img, cmap='gray')\n",
    "print(this_img.shape)\n",
    "print('예측: ', preds[0])\n",
    "print('실제: ', y_test_origin[0])\n",
    "#X_test[0]"
   ]
  },
  {
   "cell_type": "markdown",
   "id": "828e3eda",
   "metadata": {
    "id": "828e3eda"
   },
   "source": [
    "# Result"
   ]
  },
  {
   "cell_type": "code",
   "execution_count": 203,
   "id": "40875a2e",
   "metadata": {
    "colab": {
     "base_uri": "https://localhost:8080/"
    },
    "executionInfo": {
     "elapsed": 592,
     "status": "ok",
     "timestamp": 1620993790583,
     "user": {
      "displayName": "Y",
      "photoUrl": "",
      "userId": "04440835115869052992"
     },
     "user_tz": -540
    },
    "id": "40875a2e",
    "outputId": "978ad125-ba95-4ab2-fff4-b3b711078d1e"
   },
   "outputs": [
    {
     "name": "stdout",
     "output_type": "stream",
     "text": [
      "RMSE: 0.617213\n"
     ]
    }
   ],
   "source": [
    "from sklearn.metrics import mean_squared_error\n",
    "# rmse\n",
    "rmse = np.sqrt(mean_squared_error(y_test_origin, preds)) \n",
    "print(\"RMSE: %f\" % (rmse))"
   ]
  },
  {
   "cell_type": "code",
   "execution_count": 204,
   "id": "TRQWeZxp0Tr9",
   "metadata": {
    "executionInfo": {
     "elapsed": 572,
     "status": "ok",
     "timestamp": 1620994800835,
     "user": {
      "displayName": "Y",
      "photoUrl": "",
      "userId": "04440835115869052992"
     },
     "user_tz": -540
    },
    "id": "TRQWeZxp0Tr9"
   },
   "outputs": [],
   "source": [
    "from sklearn.metrics import multilabel_confusion_matrix\n",
    "cm = multilabel_confusion_matrix(y_test_origin, preds)"
   ]
  },
  {
   "cell_type": "code",
   "execution_count": 205,
   "id": "ex9FbgNy0fIi",
   "metadata": {
    "colab": {
     "base_uri": "https://localhost:8080/"
    },
    "executionInfo": {
     "elapsed": 592,
     "status": "ok",
     "timestamp": 1620994817312,
     "user": {
      "displayName": "Y",
      "photoUrl": "",
      "userId": "04440835115869052992"
     },
     "user_tz": -540
    },
    "id": "ex9FbgNy0fIi",
    "outputId": "1b45a0c7-4823-4e37-a5f8-9e1873b8bc19"
   },
   "outputs": [
    {
     "data": {
      "text/plain": [
       "array([[[1047,    0],\n",
       "        [   0,    3]],\n",
       "\n",
       "       [[1047,    0],\n",
       "        [   0,    3]],\n",
       "\n",
       "       [[1047,    0],\n",
       "        [   0,    3]],\n",
       "\n",
       "       ...,\n",
       "\n",
       "       [[1047,    0],\n",
       "        [   0,    3]],\n",
       "\n",
       "       [[1047,    0],\n",
       "        [   0,    3]],\n",
       "\n",
       "       [[1047,    0],\n",
       "        [   0,    3]]])"
      ]
     },
     "execution_count": 205,
     "metadata": {},
     "output_type": "execute_result"
    }
   ],
   "source": [
    "cm"
   ]
  },
  {
   "cell_type": "code",
   "execution_count": 206,
   "id": "d84061a8",
   "metadata": {
    "executionInfo": {
     "elapsed": 589,
     "status": "ok",
     "timestamp": 1620994802379,
     "user": {
      "displayName": "Y",
      "photoUrl": "",
      "userId": "04440835115869052992"
     },
     "user_tz": -540
    },
    "id": "d84061a8"
   },
   "outputs": [],
   "source": [
    "# 평가지표 계산\n",
    "def confusion(cm):\n",
    "    return cm[0][0], cm[0][1], cm[1][0], cm[1][1]\n",
    "\n",
    "def accuracy(cm):\n",
    "    TP, FN, FP, TN = confusion(cm)\n",
    "    return (TP+TN)/(TP+TN+FP+FN)\n",
    "\n",
    "def precision(cm):\n",
    "    TP, FN, FP, TN = confusion(cm)\n",
    "    return TP/(TP+FP)\n",
    "\n",
    "def recall(cm):\n",
    "    TP, FN, FP, TN = confusion(cm)\n",
    "    return TP/(TP+FN)\n",
    "\n",
    "def F1(cm):\n",
    "    return 2*precision(cm)*recall(cm)/(precision(cm)+recall(cm))"
   ]
  },
  {
   "cell_type": "code",
   "execution_count": 207,
   "id": "eddc3998",
   "metadata": {
    "colab": {
     "base_uri": "https://localhost:8080/"
    },
    "executionInfo": {
     "elapsed": 587,
     "status": "ok",
     "timestamp": 1620994864515,
     "user": {
      "displayName": "Y",
      "photoUrl": "",
      "userId": "04440835115869052992"
     },
     "user_tz": -540
    },
    "id": "eddc3998",
    "outputId": "7c8588f8-b960-4edd-f8d2-fc33f1b57e42"
   },
   "outputs": [
    {
     "name": "stdout",
     "output_type": "stream",
     "text": [
      "accuracy:  0.9999945578231292\n",
      "precision:  0.9999972737186477\n",
      "recall:  0.9999972711147497\n",
      "F1:  0.9999972711141274\n"
     ]
    }
   ],
   "source": [
    "# Macro Average 평가지표 계산\n",
    "accuracy_avg = 0\n",
    "precision_avg = 0\n",
    "recall_avg = 0\n",
    "F1_avg = 0\n",
    "\n",
    "for i in range(len(cm)):\n",
    "    accuracy_avg += accuracy(cm[i])\n",
    "    precision_avg += precision(cm[i])\n",
    "    recall_avg += recall(cm[i])\n",
    "    F1_avg += F1(cm[i])\n",
    "\n",
    "accuracy_avg /= len(cm)\n",
    "precision_avg /= len(cm)\n",
    "recall_avg /= len(cm)\n",
    "F1_avg /= len(cm)\n",
    "\n",
    "print('accuracy: ', accuracy_avg)\n",
    "print('precision: ', precision_avg)\n",
    "print('recall: ', recall_avg)\n",
    "print('F1: ', F1_avg)"
   ]
  },
  {
   "cell_type": "markdown",
   "id": "d06f6303",
   "metadata": {
    "id": "d06f6303"
   },
   "source": [
    "## Test"
   ]
  },
  {
   "cell_type": "code",
   "execution_count": 208,
   "id": "4202ca7b",
   "metadata": {
    "id": "4202ca7b",
    "outputId": "82f8dd81-adda-4583-9db6-e836e99d3e26"
   },
   "outputs": [
    {
     "data": {
      "text/plain": [
       "700"
      ]
     },
     "execution_count": 208,
     "metadata": {},
     "output_type": "execute_result"
    }
   ],
   "source": [
    "images = glob.glob('./02_face_test/*.bmp')\n",
    "len(images)"
   ]
  },
  {
   "cell_type": "code",
   "execution_count": 209,
   "id": "e4d27715",
   "metadata": {
    "id": "e4d27715"
   },
   "outputs": [],
   "source": [
    "r = re.compile('\\d+')\n",
    "\n",
    "img = [] # 이미지\n",
    "img_num = [] # 이미지 번호\n",
    "\n",
    "for fname in images:\n",
    "    num = r.findall(fname)[1]\n",
    "    img_num.append(num)\n",
    "    im = pilimg.open(fname)\n",
    "    pix = np.array(im)/255. # Normalize\n",
    "    img.append(pix)"
   ]
  },
  {
   "cell_type": "code",
   "execution_count": 210,
   "id": "0cff69ee",
   "metadata": {
    "id": "0cff69ee",
    "outputId": "214923fb-647d-4f1a-ac1a-e97424790554"
   },
   "outputs": [
    {
     "name": "stdout",
     "output_type": "stream",
     "text": [
      "(56, 46)\n",
      "529\n"
     ]
    },
    {
     "data": {
      "image/png": "[encoded data removed]",
      "text/plain": [
       "<Figure size 432x288 with 1 Axes>"
      ]
     },
     "metadata": {
      "needs_background": "light"
     },
     "output_type": "display_data"
    }
   ],
   "source": [
    "# 얼굴 이미지\n",
    "plt.title('Face')\n",
    "plt.imshow(img[0].reshape(56,46), cmap='gray')\n",
    "print(img[0].shape)\n",
    "print(img_num[0])"
   ]
  },
  {
   "cell_type": "code",
   "execution_count": 211,
   "id": "4ab4fcbe",
   "metadata": {
    "id": "4ab4fcbe"
   },
   "outputs": [],
   "source": [
    "X = np.array(img)\n",
    "X = X.astype('float32')\n",
    "X = X.reshape(X.shape[0],56,46,1)"
   ]
  },
  {
   "cell_type": "code",
   "execution_count": 212,
   "id": "d925058d",
   "metadata": {
    "id": "d925058d",
    "outputId": "5389d5b8-d58e-4df4-a909-aa7ab84380b1"
   },
   "outputs": [
    {
     "data": {
      "text/plain": [
       "array([130, 348, 232,  76, 168, 274, 241, 309, 329, 150, 274, 158,  84,\n",
       "       326, 107,   2, 308, 306, 211, 285, 163, 350,  40,  32, 329, 290,\n",
       "       120, 186, 270, 241, 261,  56, 238,  18, 282, 152, 325,  54, 117,\n",
       "       309, 177, 271, 257, 314, 321, 282,  65,  76, 167,  65, 295, 185,\n",
       "        67, 206, 177,  79, 302, 302,  67, 202, 234, 224, 126, 229,  53,\n",
       "       349, 208, 289, 324, 184, 310, 271, 233, 271, 265, 340, 276, 287,\n",
       "       165,  54,  32, 277, 268, 217, 323, 177, 186, 164, 333,  30,  76,\n",
       "       306,  38,  76, 192,  96, 177, 150, 274, 197, 339, 117, 317, 334,\n",
       "       232,  57, 263, 302, 116, 263, 309, 282, 101, 234, 109, 214, 258,\n",
       "       288, 217,  64, 260, 183, 345,  60, 218, 168, 260, 102, 177, 254,\n",
       "       158, 149, 246,   3, 269, 117, 333, 345, 334, 267, 274, 207, 180,\n",
       "       306,  51,  57, 179, 111, 216, 191, 236, 192, 194, 214, 181, 297,\n",
       "       254, 117, 345, 246, 274, 229, 184,   2, 322, 280, 131, 347, 293,\n",
       "       193, 284, 345, 287, 340, 282, 201, 233, 312, 275, 257, 171, 320,\n",
       "       196, 225,  87,  66, 277, 233, 190, 168,  66, 159, 216, 293, 337,\n",
       "       251, 130, 234, 178,  93, 232, 120, 304, 111, 347, 290,  49, 211,\n",
       "       224, 192, 212, 218, 237,  92, 275, 281,  61, 153,  75,  94, 183,\n",
       "       276, 162, 149, 123, 333, 334, 304, 276,  42, 334, 333, 163, 245,\n",
       "        38,   2, 306, 283, 190, 347, 312, 320, 300, 150, 310, 159, 348,\n",
       "       223, 214,  42,  95, 235, 308, 345, 294, 152,  97, 224, 224, 101,\n",
       "       295, 311, 221, 273, 290, 126, 324, 182, 339, 233, 110, 201, 271,\n",
       "       252, 278, 254, 249,  53, 109, 278, 345, 228, 167, 334, 111, 316,\n",
       "        67, 149, 208, 203, 303, 230, 313,  93, 176, 299, 195, 274, 117,\n",
       "       227, 274, 215, 219, 171,  30, 131, 306, 149, 170, 210, 268, 177,\n",
       "       168, 289, 223, 305, 317,  85, 166, 174, 187,  57,  30,  93, 318,\n",
       "       344, 298, 128, 108, 245, 227, 149, 267, 259, 244,  65, 129, 207,\n",
       "       233, 151, 105, 181, 301, 169, 257,  53, 262, 198, 177, 291, 257,\n",
       "       217, 193,  96, 247, 331, 168,  54, 336, 188, 285, 278, 172, 302,\n",
       "       154, 205, 234, 249, 168, 263, 213, 229, 270, 130,  96,  85,  96,\n",
       "       100, 335, 282, 319, 257, 145, 195, 308,  57,  87, 299, 225, 273,\n",
       "       105, 274, 178, 300, 105, 295, 189,  51, 263, 279, 164,   5, 182,\n",
       "       111, 158, 204,  67, 230, 151, 246, 341, 195,  57, 118, 240, 100,\n",
       "       279,  13,  13, 109, 209,   6, 177, 319, 332, 222, 349, 185,   1,\n",
       "       233, 166, 134, 282, 223, 175,  73, 161, 264, 345, 337, 256, 130,\n",
       "       220, 198, 313, 199, 188,  65, 185, 269, 186, 126, 256, 130, 302,\n",
       "        77, 248,  29, 298,  97, 262, 180, 283, 187, 197,  64, 286, 320,\n",
       "        38, 172, 165, 240,  57, 191, 322,  57, 157, 316, 170, 252, 156,\n",
       "       201,  43, 226, 205, 327, 227, 237, 162, 231, 227,  42, 111, 106,\n",
       "       341, 270, 173,  64, 189, 156, 297, 233, 211, 318, 243, 145, 332,\n",
       "       153,   8,  24,  30, 323, 342, 314, 311, 234, 221,  94, 243, 227,\n",
       "       115, 330, 155, 333, 292, 285, 118,  57,  88, 258, 118, 213, 215,\n",
       "       165,  15, 344, 169, 242, 291, 187, 259,   3, 273, 170, 343, 280,\n",
       "        30, 200, 306, 331,  96, 281, 141, 282, 253, 349, 227, 236, 272,\n",
       "       248, 114, 211, 161, 325, 266, 334, 116,  17, 141, 261, 227, 155,\n",
       "       211, 333, 274, 210, 261, 306, 230, 195, 261, 109, 288, 105, 233,\n",
       "       346, 282, 215, 235, 118, 305, 145, 200, 333, 145, 214,   3,  30,\n",
       "       130, 231, 287,  88, 146, 215, 295, 219, 118, 250, 105,  26,  68,\n",
       "       154,   2, 343,   2, 250, 271, 346,  13, 330, 232, 160, 295, 224,\n",
       "       294, 161, 102, 320, 266, 236, 247, 227, 286, 248, 334, 253, 223,\n",
       "       160, 225, 120, 235,  57, 227, 221, 220, 296, 216, 199, 302,  88,\n",
       "       326, 195, 316,  30, 282, 157, 338, 302, 202, 242,  42, 327, 264,\n",
       "       220, 301, 215, 107, 109, 324, 224,  41, 338, 278, 315, 287, 238,\n",
       "       191, 176,  96, 128, 175,  61, 203, 350,  87, 255,  11, 328, 223,\n",
       "       341, 196, 209, 295, 185, 192,   5, 309, 272,  54, 255])"
      ]
     },
     "execution_count": 212,
     "metadata": {},
     "output_type": "execute_result"
    }
   ],
   "source": [
    "preds = np.argmax(model.predict(X), axis=1)\n",
    "preds"
   ]
  },
  {
   "cell_type": "code",
   "execution_count": 213,
   "id": "a4c7dafa",
   "metadata": {
    "id": "a4c7dafa",
    "outputId": "8186e8c4-a3f1-440a-d4ad-3ff6e2ee2fac"
   },
   "outputs": [
    {
     "data": {
      "text/html": [
       "<div>\n",
       "<style scoped>\n",
       "    .dataframe tbody tr th:only-of-type {\n",
       "        vertical-align: middle;\n",
       "    }\n",
       "\n",
       "    .dataframe tbody tr th {\n",
       "        vertical-align: top;\n",
       "    }\n",
       "\n",
       "    .dataframe thead th {\n",
       "        text-align: right;\n",
       "    }\n",
       "</style>\n",
       "<table border=\"1\" class=\"dataframe\">\n",
       "  <thead>\n",
       "    <tr style=\"text-align: right;\">\n",
       "      <th></th>\n",
       "      <th>Image</th>\n",
       "      <th>Answer</th>\n",
       "    </tr>\n",
       "  </thead>\n",
       "  <tbody>\n",
       "    <tr>\n",
       "      <th>15</th>\n",
       "      <td>1</td>\n",
       "      <td>2</td>\n",
       "    </tr>\n",
       "    <tr>\n",
       "      <th>28</th>\n",
       "      <td>2</td>\n",
       "      <td>270</td>\n",
       "    </tr>\n",
       "    <tr>\n",
       "      <th>359</th>\n",
       "      <td>3</td>\n",
       "      <td>188</td>\n",
       "    </tr>\n",
       "    <tr>\n",
       "      <th>248</th>\n",
       "      <td>4</td>\n",
       "      <td>214</td>\n",
       "    </tr>\n",
       "    <tr>\n",
       "      <th>290</th>\n",
       "      <td>5</td>\n",
       "      <td>303</td>\n",
       "    </tr>\n",
       "    <tr>\n",
       "      <th>...</th>\n",
       "      <td>...</td>\n",
       "      <td>...</td>\n",
       "    </tr>\n",
       "    <tr>\n",
       "      <th>199</th>\n",
       "      <td>696</td>\n",
       "      <td>93</td>\n",
       "    </tr>\n",
       "    <tr>\n",
       "      <th>402</th>\n",
       "      <td>697</td>\n",
       "      <td>182</td>\n",
       "    </tr>\n",
       "    <tr>\n",
       "      <th>481</th>\n",
       "      <td>698</td>\n",
       "      <td>201</td>\n",
       "    </tr>\n",
       "    <tr>\n",
       "      <th>534</th>\n",
       "      <td>699</td>\n",
       "      <td>15</td>\n",
       "    </tr>\n",
       "    <tr>\n",
       "      <th>551</th>\n",
       "      <td>700</td>\n",
       "      <td>281</td>\n",
       "    </tr>\n",
       "  </tbody>\n",
       "</table>\n",
       "<p>700 rows × 2 columns</p>\n",
       "</div>"
      ],
      "text/plain": [
       "     Image  Answer\n",
       "15       1       2\n",
       "28       2     270\n",
       "359      3     188\n",
       "248      4     214\n",
       "290      5     303\n",
       "..     ...     ...\n",
       "199    696      93\n",
       "402    697     182\n",
       "481    698     201\n",
       "534    699      15\n",
       "551    700     281\n",
       "\n",
       "[700 rows x 2 columns]"
      ]
     },
     "execution_count": 213,
     "metadata": {},
     "output_type": "execute_result"
    }
   ],
   "source": [
    "import pandas as pd\n",
    "res_df = pd.DataFrame(img_num, columns=['Image'], dtype='int32')\n",
    "res_df['Answer'] = pd.Series(preds, dtype='int32')\n",
    "res_df.sort_values(by=['Image'], axis=0, inplace=True)\n",
    "res_df"
   ]
  },
  {
   "cell_type": "code",
   "execution_count": 214,
   "id": "8f830f6b",
   "metadata": {
    "id": "8f830f6b",
    "outputId": "b60c24ed-7a50-400f-fffb-0aee9b00dedf"
   },
   "outputs": [
    {
     "data": {
      "text/plain": [
       "57     9\n",
       "282    9\n",
       "227    9\n",
       "274    9\n",
       "233    8\n",
       "      ..\n",
       "315    1\n",
       "92     1\n",
       "212    1\n",
       "84     1\n",
       "1      1\n",
       "Name: Answer, Length: 275, dtype: int64"
      ]
     },
     "execution_count": 214,
     "metadata": {},
     "output_type": "execute_result"
    }
   ],
   "source": [
    "res_df['Answer'].value_counts()"
   ]
  },
  {
   "cell_type": "code",
   "execution_count": 215,
   "id": "69e17fe0",
   "metadata": {
    "id": "69e17fe0"
   },
   "outputs": [],
   "source": [
    "res_df.to_csv('./1871085_얼굴_1차_답안v7.csv', index=False)"
   ]
  },
  {
   "cell_type": "code",
   "execution_count": null,
   "id": "92e0d2e3",
   "metadata": {},
   "outputs": [],
   "source": []
  }
 ],
 "metadata": {
  "accelerator": "GPU",
  "colab": {
   "collapsed_sections": [
    "d06f6303"
   ],
   "name": "1871085_얼굴_1차_코드.ipynb",
   "provenance": []
  },
  "kernelspec": {
   "display_name": "Python 3",
   "language": "python",
   "name": "python3"
  },
  "language_info": {
   "codemirror_mode": {
    "name": "ipython",
    "version": 3
   },
   "file_extension": ".py",
   "mimetype": "text/x-python",
   "name": "python",
   "nbconvert_exporter": "python",
   "pygments_lexer": "ipython3",
   "version": "3.8.8"
  }
 },
 "nbformat": 4,
 "nbformat_minor": 5
}
