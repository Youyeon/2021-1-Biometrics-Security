{
 "cells": [
  {
   "cell_type": "markdown",
   "id": "78a82c24",
   "metadata": {
    "id": "78a82c24"
   },
   "source": [
    "# 생체인증보안 1871085 얼굴 2차 코드"
   ]
  },
  {
   "cell_type": "code",
   "execution_count": 1,
   "id": "ed601cff",
   "metadata": {},
   "outputs": [
    {
     "name": "stdout",
     "output_type": "stream",
     "text": [
      "[name: \"/device:CPU:0\"\n",
      "device_type: \"CPU\"\n",
      "memory_limit: 268435456\n",
      "locality {\n",
      "}\n",
      "incarnation: 7585291383554439235\n",
      ", name: \"/device:GPU:0\"\n",
      "device_type: \"GPU\"\n",
      "memory_limit: 10768720896\n",
      "locality {\n",
      "  bus_id: 1\n",
      "  links {\n",
      "  }\n",
      "}\n",
      "incarnation: 14143101957398437383\n",
      "physical_device_desc: \"device: 0, name: GeForce GTX 1080 Ti, pci bus id: 0000:09:00.0, compute capability: 6.1\"\n",
      "]\n"
     ]
    }
   ],
   "source": [
    "import tensorflow as tf\n",
    "from tensorflow.python.client import device_lib\n",
    "print(device_lib.list_local_devices())\n",
    "#tf.debugging.set_log_device_placement(True)\n",
    "gpus = tf.config.experimental.list_physical_devices('GPU')\n",
    "if gpus:\n",
    "  try:\n",
    "    tf.config.experimental.set_memory_growth(gpus[0], True)\n",
    "  except RuntimeError as e:\n",
    "    # 프로그램 시작시에 메모리 증가가 설정되어야만 합니다\n",
    "    print(e)"
   ]
  },
  {
   "cell_type": "code",
   "execution_count": 288,
   "id": "7a1377ae",
   "metadata": {
    "executionInfo": {
     "elapsed": 578,
     "status": "ok",
     "timestamp": 1620993151676,
     "user": {
      "displayName": "Y",
      "photoUrl": "",
      "userId": "04440835115869052992"
     },
     "user_tz": -540
    },
    "id": "7a1377ae"
   },
   "outputs": [],
   "source": [
    "# 라이브러리 import\n",
    "import PIL.Image as pilimg\n",
    "import numpy as np\n",
    "import glob\n",
    "import matplotlib.pyplot as plt\n",
    "import re"
   ]
  },
  {
   "cell_type": "code",
   "execution_count": 289,
   "id": "f55f0f37",
   "metadata": {
    "colab": {
     "base_uri": "https://localhost:8080/"
    },
    "executionInfo": {
     "elapsed": 543,
     "status": "ok",
     "timestamp": 1620993152028,
     "user": {
      "displayName": "Y",
      "photoUrl": "",
      "userId": "04440835115869052992"
     },
     "user_tz": -540
    },
    "id": "f55f0f37",
    "outputId": "41de9b6a-5130-4f00-f0ea-e8f89ed95e39"
   },
   "outputs": [
    {
     "data": {
      "text/plain": [
       "1050"
      ]
     },
     "execution_count": 289,
     "metadata": {},
     "output_type": "execute_result"
    }
   ],
   "source": [
    "# 이미지 목록\n",
    "images = glob.glob('./02_face_training/*.BMP')\n",
    "len(images)"
   ]
  },
  {
   "cell_type": "code",
   "execution_count": 290,
   "id": "7356061e",
   "metadata": {
    "executionInfo": {
     "elapsed": 2393,
     "status": "ok",
     "timestamp": 1620993155868,
     "user": {
      "displayName": "Y",
      "photoUrl": "",
      "userId": "04440835115869052992"
     },
     "user_tz": -540
    },
    "id": "7356061e"
   },
   "outputs": [],
   "source": [
    "r = re.compile('\\d+')\n",
    "\n",
    "img = [] # 이미지\n",
    "label = [] # 라벨\n",
    "\n",
    "for fname in images:\n",
    "    l = r.findall(fname)[1]\n",
    "    label.append(l)\n",
    "    im = pilimg.open(fname)\n",
    "    pix = np.array(im)/255. # Normalize\n",
    "    img.append(pix)"
   ]
  },
  {
   "cell_type": "code",
   "execution_count": 291,
   "id": "8fc621f1",
   "metadata": {
    "colab": {
     "base_uri": "https://localhost:8080/"
    },
    "executionInfo": {
     "elapsed": 2030,
     "status": "ok",
     "timestamp": 1620993155870,
     "user": {
      "displayName": "Y",
      "photoUrl": "",
      "userId": "04440835115869052992"
     },
     "user_tz": -540
    },
    "id": "8fc621f1",
    "outputId": "50135bf7-4fa7-4071-f83d-a55fcc3946d7"
   },
   "outputs": [
    {
     "data": {
      "text/plain": [
       "(1050, 56, 46, 1)"
      ]
     },
     "execution_count": 291,
     "metadata": {},
     "output_type": "execute_result"
    }
   ],
   "source": [
    "X = np.array(img)\n",
    "X = X.reshape(X.shape[0],56,46,1)\n",
    "X.shape # img shape"
   ]
  },
  {
   "cell_type": "code",
   "execution_count": 292,
   "id": "fe1d9359",
   "metadata": {
    "colab": {
     "base_uri": "https://localhost:8080/"
    },
    "executionInfo": {
     "elapsed": 1672,
     "status": "ok",
     "timestamp": 1620993155870,
     "user": {
      "displayName": "Y",
      "photoUrl": "",
      "userId": "04440835115869052992"
     },
     "user_tz": -540
    },
    "id": "fe1d9359",
    "outputId": "a2a13807-b612-45f7-e72a-34061485323c"
   },
   "outputs": [
    {
     "data": {
      "text/plain": [
       "array([132, 289, 283, ..., 144, 270, 260], dtype=int32)"
      ]
     },
     "execution_count": 292,
     "metadata": {},
     "output_type": "execute_result"
    }
   ],
   "source": [
    "y = np.array(label, dtype='int32')\n",
    "y # label"
   ]
  },
  {
   "cell_type": "code",
   "execution_count": 293,
   "id": "_OWth_iUQySK",
   "metadata": {
    "colab": {
     "base_uri": "https://localhost:8080/"
    },
    "executionInfo": {
     "elapsed": 1393,
     "status": "ok",
     "timestamp": 1620993155870,
     "user": {
      "displayName": "Y",
      "photoUrl": "",
      "userId": "04440835115869052992"
     },
     "user_tz": -540
    },
    "id": "_OWth_iUQySK",
    "outputId": "26d8e248-86ae-49c4-a614-0c6033224e42"
   },
   "outputs": [
    {
     "data": {
      "text/plain": [
       "(56, 46, 1)"
      ]
     },
     "execution_count": 293,
     "metadata": {},
     "output_type": "execute_result"
    }
   ],
   "source": [
    "X[0].shape"
   ]
  },
  {
   "cell_type": "code",
   "execution_count": 294,
   "id": "59973048",
   "metadata": {
    "colab": {
     "base_uri": "https://localhost:8080/",
     "height": 317
    },
    "executionInfo": {
     "elapsed": 1608,
     "status": "ok",
     "timestamp": 1620993156356,
     "user": {
      "displayName": "Y",
      "photoUrl": "",
      "userId": "04440835115869052992"
     },
     "user_tz": -540
    },
    "id": "59973048",
    "outputId": "b734c067-7978-4df6-93b2-28855cf80780"
   },
   "outputs": [
    {
     "name": "stdout",
     "output_type": "stream",
     "text": [
      "(56, 46, 1)\n",
      "132\n"
     ]
    },
    {
     "data": {
      "image/png": "[encoded data removed]",
      "text/plain": [
       "<Figure size 432x288 with 1 Axes>"
      ]
     },
     "metadata": {
      "needs_background": "light"
     },
     "output_type": "display_data"
    }
   ],
   "source": [
    "# 얼굴 이미지\n",
    "plt.title('Face')\n",
    "plt.imshow(X[0].reshape(56,46), cmap='gray')\n",
    "print(X[0].shape)\n",
    "print(y[0])"
   ]
  },
  {
   "cell_type": "code",
   "execution_count": 295,
   "id": "76a6f3b2",
   "metadata": {
    "colab": {
     "base_uri": "https://localhost:8080/"
    },
    "executionInfo": {
     "elapsed": 573,
     "status": "ok",
     "timestamp": 1620993160344,
     "user": {
      "displayName": "Y",
      "photoUrl": "",
      "userId": "04440835115869052992"
     },
     "user_tz": -540
    },
    "id": "76a6f3b2",
    "outputId": "16fe09ed-662c-4d47-bee0-2f6e3c30533d"
   },
   "outputs": [
    {
     "data": {
      "text/plain": [
       "(1050, 56, 46, 1)"
      ]
     },
     "execution_count": 295,
     "metadata": {},
     "output_type": "execute_result"
    }
   ],
   "source": [
    "X.shape"
   ]
  },
  {
   "cell_type": "markdown",
   "id": "6e68a399",
   "metadata": {
    "id": "6e68a399"
   },
   "source": [
    "## Data Augmentation"
   ]
  },
  {
   "cell_type": "code",
   "execution_count": 296,
   "id": "5ee9ef80",
   "metadata": {
    "executionInfo": {
     "elapsed": 636,
     "status": "ok",
     "timestamp": 1620993161825,
     "user": {
      "displayName": "Y",
      "photoUrl": "",
      "userId": "04440835115869052992"
     },
     "user_tz": -540
    },
    "id": "5ee9ef80"
   },
   "outputs": [],
   "source": [
    "# !pip install imgaug"
   ]
  },
  {
   "cell_type": "code",
   "execution_count": 297,
   "id": "8072f979",
   "metadata": {
    "executionInfo": {
     "elapsed": 2122,
     "status": "ok",
     "timestamp": 1620993163556,
     "user": {
      "displayName": "Y",
      "photoUrl": "",
      "userId": "04440835115869052992"
     },
     "user_tz": -540
    },
    "id": "8072f979"
   },
   "outputs": [],
   "source": [
    "from imgaug import augmenters as iaa"
   ]
  },
  {
   "cell_type": "code",
   "execution_count": 298,
   "id": "1ce4d6e2",
   "metadata": {
    "executionInfo": {
     "elapsed": 1860,
     "status": "ok",
     "timestamp": 1620993163558,
     "user": {
      "displayName": "Y",
      "photoUrl": "",
      "userId": "04440835115869052992"
     },
     "user_tz": -540
    },
    "id": "1ce4d6e2"
   },
   "outputs": [],
   "source": [
    "seq = iaa.Sequential([\n",
    "    # blur images with a sigma of 0 to 0.1\n",
    "    iaa.GaussianBlur(sigma=(0, 0.05)),\n",
    "    iaa.Affine(\n",
    "        # scale images to 90-110% of their size, individually per axis\n",
    "        #scale={\"x\": (0.9, 1.1), \"y\": (0.9, 1.1)},\n",
    "        # translate by -10 to +10 percent (per axis)\n",
    "        translate_percent={\"x\": (-0.01, 0.01), \"y\": (-0.01, 0.01)},\n",
    "        # rotate by -5 to +5 degrees\n",
    "        #rotate=(-5, 5),\n",
    "        # use nearest neighbour or bilinear interpolation (fast)\n",
    "        order=[0, 1],\n",
    "        # if mode is constant, use a cval between 0 and 255\n",
    "        cval=0\n",
    "    )\n",
    "], random_order=True)\n",
    "\n",
    "def aug_data(X_data, y_data):\n",
    "    augmentated_data = [] # 생성한 이미지\n",
    "    augmentated_label = [] # 생성한 이미지의 라벨\n",
    "    for i in range(len(X)):\n",
    "        augs = [X[i]] * 9 # 이미지당 9개 추가 생성\n",
    "        augs = seq.augment_images(augs)\n",
    "        for aug in augs:\n",
    "            augmentated_data.append(aug)\n",
    "            augmentated_label.append(y_data[i])\n",
    "    \n",
    "    return augmentated_data, augmentated_label"
   ]
  },
  {
   "cell_type": "code",
   "execution_count": 299,
   "id": "92bdd91f",
   "metadata": {
    "executionInfo": {
     "elapsed": 5571,
     "status": "ok",
     "timestamp": 1620993167612,
     "user": {
      "displayName": "Y",
      "photoUrl": "",
      "userId": "04440835115869052992"
     },
     "user_tz": -540
    },
    "id": "92bdd91f"
   },
   "outputs": [],
   "source": [
    "x_d, y_d = aug_data(X, y) # 이미지 생성"
   ]
  },
  {
   "cell_type": "code",
   "execution_count": 300,
   "id": "44d12c64",
   "metadata": {
    "colab": {
     "base_uri": "https://localhost:8080/"
    },
    "executionInfo": {
     "elapsed": 4691,
     "status": "ok",
     "timestamp": 1620993167614,
     "user": {
      "displayName": "Y",
      "photoUrl": "",
      "userId": "04440835115869052992"
     },
     "user_tz": -540
    },
    "id": "44d12c64",
    "outputId": "831be187-2d49-493d-b700-5bfeb0a3024c"
   },
   "outputs": [
    {
     "name": "stdout",
     "output_type": "stream",
     "text": [
      "9450 9450\n"
     ]
    }
   ],
   "source": [
    "print(len(x_d), len(y_d))"
   ]
  },
  {
   "cell_type": "code",
   "execution_count": 301,
   "id": "2b65e5ed",
   "metadata": {
    "colab": {
     "base_uri": "https://localhost:8080/",
     "height": 317
    },
    "executionInfo": {
     "elapsed": 4246,
     "status": "ok",
     "timestamp": 1620993167614,
     "user": {
      "displayName": "Y",
      "photoUrl": "",
      "userId": "04440835115869052992"
     },
     "user_tz": -540
    },
    "id": "2b65e5ed",
    "outputId": "2fd7b9ea-613f-4c34-b11a-13206fcd5154"
   },
   "outputs": [
    {
     "name": "stdout",
     "output_type": "stream",
     "text": [
      "(56, 46, 1)\n",
      "132\n"
     ]
    },
    {
     "data": {
      "image/png": "[encoded data removed]",
      "text/plain": [
       "<Figure size 432x288 with 1 Axes>"
      ]
     },
     "metadata": {
      "needs_background": "light"
     },
     "output_type": "display_data"
    }
   ],
   "source": [
    "# 생성한 얼굴 이미지\n",
    "plt.title('Augmented face')\n",
    "plt.imshow(x_d[1].reshape(56,46), cmap='gray')\n",
    "print(x_d[1].shape)\n",
    "print(y_d[1])"
   ]
  },
  {
   "cell_type": "code",
   "execution_count": 302,
   "id": "1ca8c5f1",
   "metadata": {
    "colab": {
     "base_uri": "https://localhost:8080/"
    },
    "executionInfo": {
     "elapsed": 935,
     "status": "ok",
     "timestamp": 1620993172847,
     "user": {
      "displayName": "Y",
      "photoUrl": "",
      "userId": "04440835115869052992"
     },
     "user_tz": -540
    },
    "id": "1ca8c5f1",
    "outputId": "ad43389d-230c-4fca-bfc0-da7e8fb552c2"
   },
   "outputs": [
    {
     "name": "stdout",
     "output_type": "stream",
     "text": [
      "(9450, 56, 46, 1)\n",
      "(9450,)\n"
     ]
    }
   ],
   "source": [
    "# 생성한 이미지\n",
    "x_d = np.array(x_d)\n",
    "y_d = np.array(y_d)\n",
    "print(x_d.shape)\n",
    "print(y_d.shape)"
   ]
  },
  {
   "cell_type": "code",
   "execution_count": 303,
   "id": "69594a1b",
   "metadata": {
    "colab": {
     "base_uri": "https://localhost:8080/"
    },
    "executionInfo": {
     "elapsed": 599,
     "status": "ok",
     "timestamp": 1620993172847,
     "user": {
      "displayName": "Y",
      "photoUrl": "",
      "userId": "04440835115869052992"
     },
     "user_tz": -540
    },
    "id": "69594a1b",
    "outputId": "487b48ea-b0f2-4c36-d43d-fcae288570d5"
   },
   "outputs": [
    {
     "name": "stdout",
     "output_type": "stream",
     "text": [
      "(1050, 56, 46, 1)\n",
      "(1050,)\n"
     ]
    }
   ],
   "source": [
    "# 기존 이미지\n",
    "print(X.shape)\n",
    "print(y.shape)"
   ]
  },
  {
   "cell_type": "code",
   "execution_count": 304,
   "id": "3f0aaf4e",
   "metadata": {
    "colab": {
     "base_uri": "https://localhost:8080/"
    },
    "executionInfo": {
     "elapsed": 708,
     "status": "ok",
     "timestamp": 1620993173208,
     "user": {
      "displayName": "Y",
      "photoUrl": "",
      "userId": "04440835115869052992"
     },
     "user_tz": -540
    },
    "id": "3f0aaf4e",
    "outputId": "42ecef26-34d9-496f-a195-150d80ed8ca1"
   },
   "outputs": [
    {
     "name": "stdout",
     "output_type": "stream",
     "text": [
      "(10500, 56, 46, 1)\n",
      "(10500,)\n"
     ]
    }
   ],
   "source": [
    "# 기존 이미지, 생성 이미지 합치기\n",
    "X_data = np.concatenate([X, x_d], axis=0)\n",
    "y_data = np.concatenate([y, y_d], axis=0)\n",
    "print(X_data.shape)\n",
    "print(y_data.shape)"
   ]
  },
  {
   "cell_type": "markdown",
   "id": "5d3b208a",
   "metadata": {
    "id": "5d3b208a"
   },
   "source": [
    "# Data split"
   ]
  },
  {
   "cell_type": "code",
   "execution_count": 305,
   "id": "10c18872",
   "metadata": {
    "executionInfo": {
     "elapsed": 841,
     "status": "ok",
     "timestamp": 1620993174905,
     "user": {
      "displayName": "Y",
      "photoUrl": "",
      "userId": "04440835115869052992"
     },
     "user_tz": -540
    },
    "id": "10c18872"
   },
   "outputs": [],
   "source": [
    "from sklearn.model_selection import train_test_split\n",
    "X_train, X_test, y_train, y_test = train_test_split(X_data,y_data, test_size=0.2, shuffle=True, stratify=y_data, random_state=101)"
   ]
  },
  {
   "cell_type": "code",
   "execution_count": 306,
   "id": "35ba1680",
   "metadata": {
    "executionInfo": {
     "elapsed": 984,
     "status": "ok",
     "timestamp": 1620993175273,
     "user": {
      "displayName": "Y",
      "photoUrl": "",
      "userId": "04440835115869052992"
     },
     "user_tz": -540
    },
    "id": "35ba1680"
   },
   "outputs": [],
   "source": [
    "X_train=X_train.astype('float32')\n",
    "y_train=y_train.astype('int32')\n",
    "X_test=X_test.astype('float32')\n",
    "y_test=y_test.astype('int32')"
   ]
  },
  {
   "cell_type": "code",
   "execution_count": 307,
   "id": "64fcb013",
   "metadata": {
    "colab": {
     "base_uri": "https://localhost:8080/"
    },
    "executionInfo": {
     "elapsed": 774,
     "status": "ok",
     "timestamp": 1620993175274,
     "user": {
      "displayName": "Y",
      "photoUrl": "",
      "userId": "04440835115869052992"
     },
     "user_tz": -540
    },
    "id": "64fcb013",
    "outputId": "9a307647-09c0-4e89-99af-cd92ef705691"
   },
   "outputs": [
    {
     "name": "stdout",
     "output_type": "stream",
     "text": [
      "(8400, 56, 46, 1) (8400,) (2100, 56, 46, 1) (2100,)\n"
     ]
    }
   ],
   "source": [
    "X_train = X_train.reshape(X_train.shape[0],56,46,1)\n",
    "X_test = X_test.reshape(X_test.shape[0],56,46,1)\n",
    "print(X_train.shape, y_train.shape, X_test.shape, y_test.shape)"
   ]
  },
  {
   "cell_type": "code",
   "execution_count": 308,
   "id": "180099ff",
   "metadata": {
    "colab": {
     "base_uri": "https://localhost:8080/"
    },
    "executionInfo": {
     "elapsed": 553,
     "status": "ok",
     "timestamp": 1620993175274,
     "user": {
      "displayName": "Y",
      "photoUrl": "",
      "userId": "04440835115869052992"
     },
     "user_tz": -540
    },
    "id": "180099ff",
    "outputId": "7bd9434b-40c1-4bd7-8b7e-532a1befb171"
   },
   "outputs": [
    {
     "data": {
      "text/plain": [
       "(56, 46, 1)"
      ]
     },
     "execution_count": 308,
     "metadata": {},
     "output_type": "execute_result"
    }
   ],
   "source": [
    "# Input shape\n",
    "X_train[0].shape"
   ]
  },
  {
   "cell_type": "code",
   "execution_count": 309,
   "id": "f9G-cW_6S7XA",
   "metadata": {
    "executionInfo": {
     "elapsed": 3660,
     "status": "ok",
     "timestamp": 1620993178561,
     "user": {
      "displayName": "Y",
      "photoUrl": "",
      "userId": "04440835115869052992"
     },
     "user_tz": -540
    },
    "id": "f9G-cW_6S7XA"
   },
   "outputs": [],
   "source": [
    "from keras.utils import to_categorical\n",
    "y_train = to_categorical(y_train, num_classes=351)\n",
    "y_test = to_categorical(y_test, num_classes=351)"
   ]
  },
  {
   "cell_type": "markdown",
   "id": "e07e80eb",
   "metadata": {
    "id": "e07e80eb"
   },
   "source": [
    "# Model"
   ]
  },
  {
   "cell_type": "code",
   "execution_count": 310,
   "id": "3c602729",
   "metadata": {
    "executionInfo": {
     "elapsed": 562,
     "status": "ok",
     "timestamp": 1620993183898,
     "user": {
      "displayName": "Y",
      "photoUrl": "",
      "userId": "04440835115869052992"
     },
     "user_tz": -540
    },
    "id": "3c602729"
   },
   "outputs": [],
   "source": [
    "import tensorflow as tf\n",
    "from tensorflow.keras import Sequential\n",
    "from tensorflow.keras.layers import Conv2D, MaxPooling2D, BatchNormalization, Dense, Flatten, Dropout\n",
    "from sklearn.model_selection import StratifiedKFold"
   ]
  },
  {
   "cell_type": "code",
   "execution_count": 311,
   "id": "a971d07c",
   "metadata": {},
   "outputs": [],
   "source": [
    "# !pip install keras_vggface\n",
    "# !pip install keras_applications"
   ]
  },
  {
   "cell_type": "code",
   "execution_count": 312,
   "id": "03d54384",
   "metadata": {
    "colab": {
     "base_uri": "https://localhost:8080/"
    },
    "executionInfo": {
     "elapsed": 6193,
     "status": "ok",
     "timestamp": 1620993191671,
     "user": {
      "displayName": "Y",
      "photoUrl": "",
      "userId": "04440835115869052992"
     },
     "user_tz": -540
    },
    "id": "03d54384",
    "outputId": "967e7c91-b05c-46ff-cb14-ca58acca7e26",
    "scrolled": false
   },
   "outputs": [
    {
     "name": "stdout",
     "output_type": "stream",
     "text": [
      "Model: \"sequential_10\"\n",
      "_________________________________________________________________\n",
      "Layer (type)                 Output Shape              Param #   \n",
      "=================================================================\n",
      "conv2d_39 (Conv2D)           (None, 56, 46, 12)        120       \n",
      "_________________________________________________________________\n",
      "conv2d_40 (Conv2D)           (None, 56, 46, 12)        1308      \n",
      "_________________________________________________________________\n",
      "conv2d_41 (Conv2D)           (None, 56, 46, 12)        1308      \n",
      "_________________________________________________________________\n",
      "max_pooling2d_13 (MaxPooling (None, 28, 23, 12)        0         \n",
      "_________________________________________________________________\n",
      "flatten_10 (Flatten)         (None, 7728)              0         \n",
      "_________________________________________________________________\n",
      "dense_30 (Dense)             (None, 256)               1978624   \n",
      "_________________________________________________________________\n",
      "dropout_6 (Dropout)          (None, 256)               0         \n",
      "_________________________________________________________________\n",
      "dense_31 (Dense)             (None, 32)                8224      \n",
      "_________________________________________________________________\n",
      "dense_32 (Dense)             (None, 351)               11583     \n",
      "=================================================================\n",
      "Total params: 2,001,167\n",
      "Trainable params: 2,001,167\n",
      "Non-trainable params: 0\n",
      "_________________________________________________________________\n"
     ]
    }
   ],
   "source": [
    "def build_model():\n",
    "    learning_rate = 0.00001\n",
    "    width = 56\n",
    "    height = 46\n",
    "    METRICS = [\n",
    "      tf.keras.metrics.BinaryAccuracy(name='accuracy')\n",
    "    ]\n",
    "    model = Sequential()\n",
    "    model.add(Conv2D(filters=12, kernel_size=(3,3), padding='same', activation='selu', input_shape=(width,height,1)))\n",
    "    model.add(Conv2D(filters=12, kernel_size=(3,3), padding='same', activation='selu'))\n",
    "    model.add(Conv2D(filters=12, kernel_size=(3,3), padding='same', activation='selu'))\n",
    "    model.add(MaxPooling2D(pool_size=(2,2)))\n",
    "\n",
    "    model.add(Flatten())\n",
    "    model.add(Dense(256, activation='selu'))\n",
    "    model.add(Dropout(0.1))\n",
    "    model.add(Dense(32, activation='selu', kernel_regularizer='l2'))\n",
    "    model.add(Dense(351, activation='softmax'))\n",
    "    model.compile(loss='categorical_crossentropy', optimizer='adam', metrics=['accuracy'])\n",
    "    return model\n",
    "\n",
    "model = build_model()\n",
    "model.summary()"
   ]
  },
  {
   "cell_type": "code",
   "execution_count": 313,
   "id": "b558d18e",
   "metadata": {
    "colab": {
     "base_uri": "https://localhost:8080/"
    },
    "executionInfo": {
     "elapsed": 88187,
     "status": "ok",
     "timestamp": 1620993287579,
     "user": {
      "displayName": "Y",
      "photoUrl": "",
      "userId": "04440835115869052992"
     },
     "user_tz": -540
    },
    "id": "b558d18e",
    "outputId": "1e32f88b-6fc3-4de3-8b11-8232929090d5",
    "scrolled": true
   },
   "outputs": [
    {
     "name": "stdout",
     "output_type": "stream",
     "text": [
      "Fold # 1\n",
      "(2100, 56, 46, 1)\n",
      "(2100, 351)\n",
      "Epoch 1/10\n",
      "197/197 [==============================] - 8s 32ms/step - loss: 5.4220 - accuracy: 0.1425 - val_loss: 0.9338 - val_accuracy: 0.8710\n",
      "Epoch 2/10\n",
      "197/197 [==============================] - 1s 5ms/step - loss: 0.5918 - accuracy: 0.9501 - val_loss: 0.3325 - val_accuracy: 0.9933\n",
      "Epoch 3/10\n",
      "197/197 [==============================] - 1s 4ms/step - loss: 0.2919 - accuracy: 0.9960 - val_loss: 0.2096 - val_accuracy: 0.9971\n",
      "Epoch 4/10\n",
      "197/197 [==============================] - 1s 4ms/step - loss: 0.1868 - accuracy: 0.9991 - val_loss: 0.1494 - val_accuracy: 0.9976\n",
      "Epoch 5/10\n",
      "197/197 [==============================] - 1s 4ms/step - loss: 0.1367 - accuracy: 0.9967 - val_loss: 0.1542 - val_accuracy: 0.9871\n",
      "Epoch 6/10\n",
      "197/197 [==============================] - 1s 4ms/step - loss: 0.1559 - accuracy: 0.9871 - val_loss: 0.1198 - val_accuracy: 0.9948\n",
      "Epoch 7/10\n",
      "197/197 [==============================] - 1s 4ms/step - loss: 0.0999 - accuracy: 0.9984 - val_loss: 0.0688 - val_accuracy: 0.9990\n",
      "Epoch 8/10\n",
      "197/197 [==============================] - 1s 4ms/step - loss: 0.0853 - accuracy: 0.9943 - val_loss: 0.1082 - val_accuracy: 0.9890\n",
      "Epoch 9/10\n",
      "197/197 [==============================] - 1s 4ms/step - loss: 0.1051 - accuracy: 0.9919 - val_loss: 0.1511 - val_accuracy: 0.9790\n",
      "Epoch 10/10\n",
      "197/197 [==============================] - 1s 4ms/step - loss: 0.1237 - accuracy: 0.9885 - val_loss: 0.1484 - val_accuracy: 0.9810\n",
      "Fold # 2\n",
      "(2100, 56, 46, 1)\n",
      "(2100, 351)\n",
      "Epoch 1/10\n",
      "197/197 [==============================] - 1s 4ms/step - loss: 0.1276 - accuracy: 0.9879 - val_loss: 0.0800 - val_accuracy: 0.9981\n",
      "Epoch 2/10\n",
      "197/197 [==============================] - 1s 4ms/step - loss: 0.0745 - accuracy: 0.9983 - val_loss: 0.0595 - val_accuracy: 0.9995\n",
      "Epoch 3/10\n",
      "197/197 [==============================] - 1s 4ms/step - loss: 0.0486 - accuracy: 1.0000 - val_loss: 0.0395 - val_accuracy: 1.0000\n",
      "Epoch 4/10\n",
      "197/197 [==============================] - 1s 4ms/step - loss: 0.0332 - accuracy: 1.0000 - val_loss: 0.0270 - val_accuracy: 1.0000\n",
      "Epoch 5/10\n",
      "197/197 [==============================] - 1s 4ms/step - loss: 0.0231 - accuracy: 1.0000 - val_loss: 0.0190 - val_accuracy: 1.0000\n",
      "Epoch 6/10\n",
      "197/197 [==============================] - 1s 4ms/step - loss: 0.1643 - accuracy: 0.9632 - val_loss: 0.2081 - val_accuracy: 0.9652\n",
      "Epoch 7/10\n",
      "197/197 [==============================] - 1s 4ms/step - loss: 0.1466 - accuracy: 0.9835 - val_loss: 0.0885 - val_accuracy: 1.0000\n",
      "Epoch 8/10\n",
      "197/197 [==============================] - 1s 4ms/step - loss: 0.0805 - accuracy: 0.9984 - val_loss: 0.0664 - val_accuracy: 1.0000\n",
      "Epoch 9/10\n",
      "197/197 [==============================] - 1s 4ms/step - loss: 0.0567 - accuracy: 1.0000 - val_loss: 0.0483 - val_accuracy: 1.0000\n",
      "Epoch 10/10\n",
      "197/197 [==============================] - 1s 4ms/step - loss: 0.0413 - accuracy: 1.0000 - val_loss: 0.0348 - val_accuracy: 1.0000\n",
      "Fold # 3\n",
      "(2100, 56, 46, 1)\n",
      "(2100, 351)\n",
      "Epoch 1/10\n",
      "197/197 [==============================] - 1s 4ms/step - loss: 0.0299 - accuracy: 1.0000 - val_loss: 0.0247 - val_accuracy: 1.0000\n",
      "Epoch 2/10\n",
      "197/197 [==============================] - 1s 4ms/step - loss: 0.0313 - accuracy: 0.9978 - val_loss: 0.0605 - val_accuracy: 0.9933\n",
      "Epoch 3/10\n",
      "197/197 [==============================] - 1s 4ms/step - loss: 0.1670 - accuracy: 0.9689 - val_loss: 0.0939 - val_accuracy: 0.9943\n",
      "Epoch 4/10\n",
      "197/197 [==============================] - 1s 4ms/step - loss: 0.0935 - accuracy: 0.9938 - val_loss: 0.0759 - val_accuracy: 0.9990\n",
      "Epoch 5/10\n",
      "197/197 [==============================] - 1s 4ms/step - loss: 0.0823 - accuracy: 0.9962 - val_loss: 0.0797 - val_accuracy: 0.9952\n",
      "Epoch 6/10\n",
      "197/197 [==============================] - 1s 4ms/step - loss: 0.0578 - accuracy: 0.9984 - val_loss: 0.0463 - val_accuracy: 1.0000\n",
      "Epoch 7/10\n",
      "197/197 [==============================] - 1s 4ms/step - loss: 0.0418 - accuracy: 0.9994 - val_loss: 0.0349 - val_accuracy: 1.0000\n",
      "Epoch 8/10\n",
      "197/197 [==============================] - 1s 4ms/step - loss: 0.0339 - accuracy: 0.9997 - val_loss: 0.0271 - val_accuracy: 1.0000\n",
      "Epoch 9/10\n",
      "197/197 [==============================] - 1s 4ms/step - loss: 0.0233 - accuracy: 1.0000 - val_loss: 0.0193 - val_accuracy: 1.0000\n",
      "Epoch 10/10\n",
      "197/197 [==============================] - 1s 4ms/step - loss: 0.0179 - accuracy: 0.9998 - val_loss: 0.0150 - val_accuracy: 1.0000\n",
      "Fold # 4\n",
      "(2100, 56, 46, 1)\n",
      "(2100, 351)\n",
      "Epoch 1/10\n",
      "197/197 [==============================] - 1s 4ms/step - loss: 0.0132 - accuracy: 1.0000 - val_loss: 0.0107 - val_accuracy: 1.0000\n",
      "Epoch 2/10\n",
      "197/197 [==============================] - 1s 4ms/step - loss: 0.1469 - accuracy: 0.9671 - val_loss: 0.1772 - val_accuracy: 0.9743\n",
      "Epoch 3/10\n",
      "197/197 [==============================] - 1s 4ms/step - loss: 0.1074 - accuracy: 0.9913 - val_loss: 0.0757 - val_accuracy: 1.0000\n",
      "Epoch 4/10\n",
      "197/197 [==============================] - 1s 4ms/step - loss: 0.0667 - accuracy: 1.0000 - val_loss: 0.0572 - val_accuracy: 1.0000\n",
      "Epoch 5/10\n",
      "197/197 [==============================] - 1s 4ms/step - loss: 0.0502 - accuracy: 1.0000 - val_loss: 0.0430 - val_accuracy: 1.0000\n",
      "Epoch 6/10\n",
      "197/197 [==============================] - 1s 4ms/step - loss: 0.0374 - accuracy: 1.0000 - val_loss: 0.0316 - val_accuracy: 1.0000\n",
      "Epoch 7/10\n",
      "197/197 [==============================] - 1s 4ms/step - loss: 0.0309 - accuracy: 0.9989 - val_loss: 0.0496 - val_accuracy: 0.9948\n",
      "Epoch 8/10\n",
      "197/197 [==============================] - 1s 4ms/step - loss: 0.1018 - accuracy: 0.9824 - val_loss: 0.0981 - val_accuracy: 0.9871\n",
      "Epoch 9/10\n",
      "197/197 [==============================] - 1s 4ms/step - loss: 0.0939 - accuracy: 0.9905 - val_loss: 0.0651 - val_accuracy: 1.0000\n",
      "Epoch 10/10\n",
      "197/197 [==============================] - 1s 4ms/step - loss: 0.0700 - accuracy: 0.9973 - val_loss: 0.0552 - val_accuracy: 1.0000\n"
     ]
    }
   ],
   "source": [
    "# Cross validation\n",
    "from sklearn.model_selection import KFold\n",
    "\n",
    "kf = KFold(n_splits=4, shuffle=True, random_state=42)\n",
    "all_history = [] # 결과 저장\n",
    "\n",
    "def score_model(model, cv=None):\n",
    "    if cv is None:\n",
    "        cv = KFold(n_splits=4, random_state=42, shuffle=True)\n",
    "        \n",
    "    i=0\n",
    "    for train_fold_index, val_fold_index in cv.split(X_train, y_train):\n",
    "        i=i+1\n",
    "        print('Fold #',i)\n",
    "        # Get the training data\n",
    "        X_train_fold, y_train_fold = X_train[train_fold_index], y_train[train_fold_index]\n",
    "        # Get the validation data\n",
    "        X_val_fold, y_val_fold = X_train[val_fold_index], y_train[val_fold_index]\n",
    "        \n",
    "        x,y,z,w = X_train_fold.shape\n",
    "\n",
    "        print(X_val_fold.shape)\n",
    "        print(y_val_fold.shape)\n",
    "        \n",
    "        # Fit the model\n",
    "        model_obj = model.fit(X_train_fold, y_train_fold,\n",
    "                              epochs=10,\n",
    "                              validation_data=(X_val_fold, y_val_fold), \n",
    "                              verbose=1)\n",
    "        all_history.append(model_obj.history)\n",
    "\n",
    "# Example of the model in action\n",
    "score_model(model, cv=kf)\n",
    "model.save('./facemodel8.h5')"
   ]
  },
  {
   "cell_type": "code",
   "execution_count": 314,
   "id": "9ee6ef69",
   "metadata": {
    "colab": {
     "base_uri": "https://localhost:8080/",
     "height": 1000
    },
    "executionInfo": {
     "elapsed": 1168,
     "status": "ok",
     "timestamp": 1620994876978,
     "user": {
      "displayName": "Y",
      "photoUrl": "",
      "userId": "04440835115869052992"
     },
     "user_tz": -540
    },
    "id": "9ee6ef69",
    "outputId": "77dae459-dbac-43e1-bc81-fad512c3e863"
   },
   "outputs": [
    {
     "data": {
      "image/png": "[encoded data removed]",
      "text/plain": [
       "<Figure size 432x288 with 1 Axes>"
      ]
     },
     "metadata": {
      "needs_background": "light"
     },
     "output_type": "display_data"
    },
    {
     "data": {
      "image/png": "[encoded data removed]",
      "text/plain": [
       "<Figure size 432x288 with 1 Axes>"
      ]
     },
     "metadata": {
      "needs_background": "light"
     },
     "output_type": "display_data"
    },
    {
     "data": {
      "image/png": "[encoded data removed]",
      "text/plain": [
       "<Figure size 432x288 with 1 Axes>"
      ]
     },
     "metadata": {
      "needs_background": "light"
     },
     "output_type": "display_data"
    },
    {
     "data": {
      "image/png": "[encoded data removed]",
      "text/plain": [
       "<Figure size 432x288 with 1 Axes>"
      ]
     },
     "metadata": {
      "needs_background": "light"
     },
     "output_type": "display_data"
    }
   ],
   "source": [
    "# Loss\n",
    "for i in range(4):\n",
    "    loss = all_history[i].get('loss') # train\n",
    "    val_loss = all_history[i].get('val_loss') # val\n",
    "    epochs = range(1, len(loss) + 1)\n",
    "    plt.plot(epochs, loss, 'b', label='Training loss')  # ‘b’는 파란색 실선을 의미합니다.\n",
    "    plt.plot(epochs, val_loss, 'g', label='Validation loss') # ‘g’는 초록색 실선을 의미합니다.\n",
    "    plt.title('Training and validation loss')\n",
    "    plt.xlabel('epochs')\n",
    "    plt.ylabel('Loss')\n",
    "    plt.legend()\n",
    "    plt.show()"
   ]
  },
  {
   "cell_type": "code",
   "execution_count": 315,
   "id": "sC83TeQ-vIKP",
   "metadata": {
    "colab": {
     "base_uri": "https://localhost:8080/",
     "height": 1000
    },
    "executionInfo": {
     "elapsed": 1236,
     "status": "ok",
     "timestamp": 1620993449458,
     "user": {
      "displayName": "Y",
      "photoUrl": "",
      "userId": "04440835115869052992"
     },
     "user_tz": -540
    },
    "id": "sC83TeQ-vIKP",
    "outputId": "e3e4aede-9bdd-4b9e-ccd3-f3f2d7f76111"
   },
   "outputs": [
    {
     "data": {
      "image/png": "[encoded data removed]",
      "text/plain": [
       "<Figure size 432x288 with 1 Axes>"
      ]
     },
     "metadata": {
      "needs_background": "light"
     },
     "output_type": "display_data"
    },
    {
     "data": {
      "image/png": "[encoded data removed]",
      "text/plain": [
       "<Figure size 432x288 with 1 Axes>"
      ]
     },
     "metadata": {
      "needs_background": "light"
     },
     "output_type": "display_data"
    },
    {
     "data": {
      "image/png": "[encoded data removed]",
      "text/plain": [
       "<Figure size 432x288 with 1 Axes>"
      ]
     },
     "metadata": {
      "needs_background": "light"
     },
     "output_type": "display_data"
    },
    {
     "data": {
      "image/png": "[encoded data removed]",
      "text/plain": [
       "<Figure size 432x288 with 1 Axes>"
      ]
     },
     "metadata": {
      "needs_background": "light"
     },
     "output_type": "display_data"
    }
   ],
   "source": [
    "# Accuracy\n",
    "for i in range(4):\n",
    "    loss = all_history[i].get('accuracy') # train\n",
    "    val_loss = all_history[i].get('val_accuracy') # val\n",
    "    epochs = range(1, len(loss) + 1)\n",
    "    plt.plot(epochs, loss, 'b', label='Training Accuracy')  # ‘b’는 파란색 실선을 의미합니다.\n",
    "    plt.plot(epochs, val_loss, 'g', label='Validation Accuracy') # ‘g’는 초록색 실선을 의미합니다.\n",
    "    plt.title('Training and validation Accuracy')\n",
    "    plt.xlabel('epochs')\n",
    "    plt.ylabel('Accuracy')\n",
    "    plt.legend()\n",
    "    plt.show()"
   ]
  },
  {
   "cell_type": "code",
   "execution_count": 316,
   "id": "j7j-6QbUvat1",
   "metadata": {
    "colab": {
     "base_uri": "https://localhost:8080/"
    },
    "executionInfo": {
     "elapsed": 566,
     "status": "ok",
     "timestamp": 1620993787105,
     "user": {
      "displayName": "Y",
      "photoUrl": "",
      "userId": "04440835115869052992"
     },
     "user_tz": -540
    },
    "id": "j7j-6QbUvat1",
    "outputId": "f88d2683-c7d6-4b80-cd6d-aa9b150e468c",
    "scrolled": true
   },
   "outputs": [
    {
     "data": {
      "text/plain": [
       "array([ 53, 342, 172, ..., 339, 334,   1])"
      ]
     },
     "execution_count": 316,
     "metadata": {},
     "output_type": "execute_result"
    }
   ],
   "source": [
    "preds = np.argmax(model.predict(X_test), axis=1)\n",
    "preds"
   ]
  },
  {
   "cell_type": "code",
   "execution_count": 317,
   "id": "nUFsgqtCvtex",
   "metadata": {
    "colab": {
     "base_uri": "https://localhost:8080/"
    },
    "executionInfo": {
     "elapsed": 583,
     "status": "ok",
     "timestamp": 1620993646844,
     "user": {
      "displayName": "Y",
      "photoUrl": "",
      "userId": "04440835115869052992"
     },
     "user_tz": -540
    },
    "id": "nUFsgqtCvtex",
    "outputId": "a80f8f38-85ea-4897-c2fc-0844338272a1"
   },
   "outputs": [
    {
     "data": {
      "text/plain": [
       "array([ 53, 342, 172, ..., 339, 334,   1])"
      ]
     },
     "execution_count": 317,
     "metadata": {},
     "output_type": "execute_result"
    }
   ],
   "source": [
    "y_test_origin = np.argmax(y_test, axis=1)\n",
    "y_test_origin"
   ]
  },
  {
   "cell_type": "code",
   "execution_count": 318,
   "id": "QJIjp9ILT-md",
   "metadata": {
    "colab": {
     "base_uri": "https://localhost:8080/",
     "height": 317
    },
    "executionInfo": {
     "elapsed": 784,
     "status": "ok",
     "timestamp": 1620993476058,
     "user": {
      "displayName": "Y",
      "photoUrl": "",
      "userId": "04440835115869052992"
     },
     "user_tz": -540
    },
    "id": "QJIjp9ILT-md",
    "outputId": "a6ec35ef-a7bf-46d7-9f42-c832be36c4c0"
   },
   "outputs": [
    {
     "name": "stdout",
     "output_type": "stream",
     "text": [
      "(56, 46)\n",
      "예측:  53\n",
      "실제:  53\n"
     ]
    },
    {
     "data": {
      "image/png": "[encoded data removed]",
      "text/plain": [
       "<Figure size 432x288 with 1 Axes>"
      ]
     },
     "metadata": {
      "needs_background": "light"
     },
     "output_type": "display_data"
    }
   ],
   "source": [
    "# 예측결과\n",
    "plt.title('predicted face')\n",
    "this_img = X_test[0].reshape(56,46)\n",
    "plt.imshow(this_img, cmap='gray')\n",
    "print(this_img.shape)\n",
    "print('예측: ', preds[0])\n",
    "print('실제: ', y_test_origin[0])\n",
    "#X_test[0]"
   ]
  },
  {
   "cell_type": "markdown",
   "id": "828e3eda",
   "metadata": {
    "id": "828e3eda"
   },
   "source": [
    "# Result"
   ]
  },
  {
   "cell_type": "code",
   "execution_count": 319,
   "id": "40875a2e",
   "metadata": {
    "colab": {
     "base_uri": "https://localhost:8080/"
    },
    "executionInfo": {
     "elapsed": 592,
     "status": "ok",
     "timestamp": 1620993790583,
     "user": {
      "displayName": "Y",
      "photoUrl": "",
      "userId": "04440835115869052992"
     },
     "user_tz": -540
    },
    "id": "40875a2e",
    "outputId": "978ad125-ba95-4ab2-fff4-b3b711078d1e"
   },
   "outputs": [
    {
     "name": "stdout",
     "output_type": "stream",
     "text": [
      "RMSE: 3.648679\n"
     ]
    }
   ],
   "source": [
    "from sklearn.metrics import mean_squared_error\n",
    "# rmse\n",
    "rmse = np.sqrt(mean_squared_error(y_test_origin, preds)) \n",
    "print(\"RMSE: %f\" % (rmse))"
   ]
  },
  {
   "cell_type": "code",
   "execution_count": 320,
   "id": "TRQWeZxp0Tr9",
   "metadata": {
    "executionInfo": {
     "elapsed": 572,
     "status": "ok",
     "timestamp": 1620994800835,
     "user": {
      "displayName": "Y",
      "photoUrl": "",
      "userId": "04440835115869052992"
     },
     "user_tz": -540
    },
    "id": "TRQWeZxp0Tr9"
   },
   "outputs": [
    {
     "name": "stdout",
     "output_type": "stream",
     "text": [
      "[[6 0 0 ... 0 0 0]\n",
      " [0 6 0 ... 0 0 0]\n",
      " [0 0 6 ... 0 0 0]\n",
      " ...\n",
      " [0 0 0 ... 6 0 0]\n",
      " [0 0 0 ... 0 6 0]\n",
      " [0 0 0 ... 0 0 6]]\n"
     ]
    }
   ],
   "source": [
    "from sklearn.metrics import confusion_matrix\n",
    "print(confusion_matrix(y_test_origin,preds))"
   ]
  },
  {
   "cell_type": "code",
   "execution_count": 321,
   "id": "d84061a8",
   "metadata": {
    "executionInfo": {
     "elapsed": 589,
     "status": "ok",
     "timestamp": 1620994802379,
     "user": {
      "displayName": "Y",
      "photoUrl": "",
      "userId": "04440835115869052992"
     },
     "user_tz": -540
    },
    "id": "d84061a8"
   },
   "outputs": [
    {
     "name": "stdout",
     "output_type": "stream",
     "text": [
      "              precision    recall  f1-score   support\n",
      "\n",
      "           1       1.00      1.00      1.00         6\n",
      "           2       1.00      1.00      1.00         6\n",
      "           3       1.00      1.00      1.00         6\n",
      "           4       1.00      1.00      1.00         6\n",
      "           5       1.00      1.00      1.00         6\n",
      "           6       1.00      1.00      1.00         6\n",
      "           7       1.00      1.00      1.00         6\n",
      "           8       1.00      1.00      1.00         6\n",
      "           9       1.00      1.00      1.00         6\n",
      "          10       1.00      1.00      1.00         6\n",
      "          11       1.00      1.00      1.00         6\n",
      "          12       1.00      1.00      1.00         6\n",
      "          13       1.00      1.00      1.00         6\n",
      "          14       1.00      1.00      1.00         6\n",
      "          15       1.00      1.00      1.00         6\n",
      "          16       1.00      1.00      1.00         6\n",
      "          17       1.00      1.00      1.00         6\n",
      "          18       1.00      1.00      1.00         6\n",
      "          19       1.00      1.00      1.00         6\n",
      "          20       1.00      1.00      1.00         6\n",
      "          21       1.00      1.00      1.00         6\n",
      "          22       1.00      1.00      1.00         6\n",
      "          23       1.00      1.00      1.00         6\n",
      "          24       1.00      1.00      1.00         6\n",
      "          25       1.00      1.00      1.00         6\n",
      "          26       1.00      1.00      1.00         6\n",
      "          27       1.00      1.00      1.00         6\n",
      "          28       1.00      1.00      1.00         6\n",
      "          29       1.00      1.00      1.00         6\n",
      "          30       1.00      1.00      1.00         6\n",
      "          31       1.00      1.00      1.00         6\n",
      "          32       1.00      1.00      1.00         6\n",
      "          33       1.00      1.00      1.00         6\n",
      "          34       1.00      1.00      1.00         6\n",
      "          35       1.00      1.00      1.00         6\n",
      "          36       1.00      1.00      1.00         6\n",
      "          37       1.00      1.00      1.00         6\n",
      "          38       1.00      1.00      1.00         6\n",
      "          39       1.00      1.00      1.00         6\n",
      "          40       1.00      1.00      1.00         6\n",
      "          41       1.00      1.00      1.00         6\n",
      "          42       1.00      1.00      1.00         6\n",
      "          43       1.00      1.00      1.00         6\n",
      "          44       1.00      1.00      1.00         6\n",
      "          45       1.00      1.00      1.00         6\n",
      "          46       1.00      1.00      1.00         6\n",
      "          47       1.00      1.00      1.00         6\n",
      "          48       1.00      1.00      1.00         6\n",
      "          49       1.00      1.00      1.00         6\n",
      "          50       1.00      1.00      1.00         6\n",
      "          51       1.00      1.00      1.00         6\n",
      "          52       1.00      1.00      1.00         6\n",
      "          53       1.00      1.00      1.00         6\n",
      "          54       1.00      1.00      1.00         6\n",
      "          55       1.00      1.00      1.00         6\n",
      "          56       1.00      1.00      1.00         6\n",
      "          57       1.00      1.00      1.00         6\n",
      "          58       1.00      1.00      1.00         6\n",
      "          59       1.00      1.00      1.00         6\n",
      "          60       1.00      1.00      1.00         6\n",
      "          61       1.00      1.00      1.00         6\n",
      "          62       1.00      1.00      1.00         6\n",
      "          63       1.00      1.00      1.00         6\n",
      "          64       1.00      1.00      1.00         6\n",
      "          65       1.00      1.00      1.00         6\n",
      "          66       1.00      1.00      1.00         6\n",
      "          67       1.00      1.00      1.00         6\n",
      "          68       1.00      1.00      1.00         6\n",
      "          69       1.00      1.00      1.00         6\n",
      "          70       1.00      1.00      1.00         6\n",
      "          71       1.00      1.00      1.00         6\n",
      "          72       1.00      1.00      1.00         6\n",
      "          73       1.00      1.00      1.00         6\n",
      "          74       1.00      1.00      1.00         6\n",
      "          75       1.00      1.00      1.00         6\n",
      "          76       1.00      1.00      1.00         6\n",
      "          77       1.00      1.00      1.00         6\n",
      "          78       1.00      1.00      1.00         6\n",
      "          79       1.00      1.00      1.00         6\n",
      "          80       1.00      1.00      1.00         6\n",
      "          81       1.00      1.00      1.00         6\n",
      "          82       1.00      1.00      1.00         6\n",
      "          83       1.00      1.00      1.00         6\n",
      "          84       1.00      1.00      1.00         6\n",
      "          85       1.00      1.00      1.00         6\n",
      "          86       1.00      1.00      1.00         6\n",
      "          87       1.00      1.00      1.00         6\n",
      "          88       1.00      1.00      1.00         6\n",
      "          89       1.00      1.00      1.00         6\n",
      "          90       1.00      1.00      1.00         6\n",
      "          91       1.00      1.00      1.00         6\n",
      "          92       1.00      1.00      1.00         6\n",
      "          93       0.86      1.00      0.92         6\n",
      "          94       1.00      1.00      1.00         6\n",
      "          95       1.00      1.00      1.00         6\n",
      "          96       1.00      1.00      1.00         6\n",
      "          97       1.00      1.00      1.00         6\n",
      "          98       1.00      1.00      1.00         6\n",
      "          99       1.00      1.00      1.00         6\n",
      "         100       1.00      1.00      1.00         6\n",
      "         101       1.00      1.00      1.00         6\n",
      "         102       1.00      1.00      1.00         6\n",
      "         103       1.00      1.00      1.00         6\n",
      "         104       1.00      1.00      1.00         6\n",
      "         105       1.00      1.00      1.00         6\n",
      "         106       1.00      1.00      1.00         6\n",
      "         107       1.00      1.00      1.00         6\n",
      "         108       1.00      1.00      1.00         6\n",
      "         109       1.00      1.00      1.00         6\n",
      "         110       1.00      0.83      0.91         6\n",
      "         111       1.00      1.00      1.00         6\n",
      "         112       1.00      1.00      1.00         6\n",
      "         113       1.00      1.00      1.00         6\n",
      "         114       1.00      1.00      1.00         6\n",
      "         115       1.00      1.00      1.00         6\n",
      "         116       1.00      1.00      1.00         6\n",
      "         117       1.00      1.00      1.00         6\n",
      "         118       1.00      1.00      1.00         6\n",
      "         119       1.00      1.00      1.00         6\n",
      "         120       1.00      1.00      1.00         6\n",
      "         121       1.00      1.00      1.00         6\n",
      "         122       1.00      1.00      1.00         6\n",
      "         123       1.00      1.00      1.00         6\n",
      "         124       1.00      1.00      1.00         6\n",
      "         125       1.00      1.00      1.00         6\n",
      "         126       1.00      1.00      1.00         6\n",
      "         127       1.00      1.00      1.00         6\n",
      "         128       1.00      1.00      1.00         6\n",
      "         129       1.00      1.00      1.00         6\n",
      "         130       0.86      1.00      0.92         6\n",
      "         131       1.00      1.00      1.00         6\n",
      "         132       1.00      1.00      1.00         6\n",
      "         133       1.00      1.00      1.00         6\n",
      "         134       1.00      1.00      1.00         6\n",
      "         135       1.00      1.00      1.00         6\n",
      "         136       1.00      1.00      1.00         6\n",
      "         137       1.00      1.00      1.00         6\n",
      "         138       1.00      1.00      1.00         6\n",
      "         139       1.00      1.00      1.00         6\n",
      "         140       1.00      1.00      1.00         6\n",
      "         141       1.00      1.00      1.00         6\n",
      "         142       1.00      1.00      1.00         6\n",
      "         143       1.00      1.00      1.00         6\n",
      "         144       1.00      1.00      1.00         6\n",
      "         145       1.00      1.00      1.00         6\n",
      "         146       1.00      1.00      1.00         6\n",
      "         147       1.00      1.00      1.00         6\n",
      "         148       1.00      1.00      1.00         6\n",
      "         149       1.00      1.00      1.00         6\n",
      "         150       1.00      1.00      1.00         6\n",
      "         151       1.00      1.00      1.00         6\n",
      "         152       1.00      1.00      1.00         6\n",
      "         153       1.00      1.00      1.00         6\n",
      "         154       1.00      1.00      1.00         6\n",
      "         155       1.00      1.00      1.00         6\n",
      "         156       1.00      1.00      1.00         6\n",
      "         157       1.00      1.00      1.00         6\n",
      "         158       1.00      1.00      1.00         6\n",
      "         159       1.00      1.00      1.00         6\n",
      "         160       1.00      1.00      1.00         6\n",
      "         161       1.00      1.00      1.00         6\n",
      "         162       1.00      1.00      1.00         6\n",
      "         163       1.00      1.00      1.00         6\n",
      "         164       1.00      1.00      1.00         6\n",
      "         165       1.00      1.00      1.00         6\n",
      "         166       1.00      1.00      1.00         6\n",
      "         167       1.00      1.00      1.00         6\n",
      "         168       1.00      1.00      1.00         6\n",
      "         169       1.00      1.00      1.00         6\n",
      "         170       1.00      1.00      1.00         6\n",
      "         171       1.00      1.00      1.00         6\n",
      "         172       1.00      1.00      1.00         6\n",
      "         173       1.00      1.00      1.00         6\n",
      "         174       1.00      1.00      1.00         6\n",
      "         175       1.00      1.00      1.00         6\n",
      "         176       1.00      1.00      1.00         6\n",
      "         177       1.00      1.00      1.00         6\n",
      "         178       1.00      1.00      1.00         6\n",
      "         179       1.00      1.00      1.00         6\n",
      "         180       1.00      1.00      1.00         6\n",
      "         181       0.86      1.00      0.92         6\n",
      "         182       1.00      0.83      0.91         6\n",
      "         183       1.00      1.00      1.00         6\n",
      "         184       1.00      1.00      1.00         6\n",
      "         185       1.00      1.00      1.00         6\n",
      "         186       1.00      1.00      1.00         6\n",
      "         187       1.00      1.00      1.00         6\n",
      "         188       1.00      1.00      1.00         6\n",
      "         189       1.00      1.00      1.00         6\n",
      "         190       1.00      1.00      1.00         6\n",
      "         191       1.00      1.00      1.00         6\n",
      "         192       1.00      1.00      1.00         6\n",
      "         193       1.00      1.00      1.00         6\n",
      "         194       1.00      1.00      1.00         6\n",
      "         195       1.00      1.00      1.00         6\n",
      "         196       1.00      1.00      1.00         6\n",
      "         197       1.00      1.00      1.00         6\n",
      "         198       1.00      1.00      1.00         6\n",
      "         199       1.00      1.00      1.00         6\n",
      "         200       1.00      1.00      1.00         6\n",
      "         201       1.00      1.00      1.00         6\n",
      "         202       1.00      1.00      1.00         6\n",
      "         203       1.00      1.00      1.00         6\n",
      "         204       1.00      1.00      1.00         6\n",
      "         205       1.00      1.00      1.00         6\n",
      "         206       1.00      1.00      1.00         6\n",
      "         207       1.00      1.00      1.00         6\n",
      "         208       1.00      1.00      1.00         6\n",
      "         209       1.00      1.00      1.00         6\n",
      "         210       1.00      1.00      1.00         6\n",
      "         211       1.00      1.00      1.00         6\n",
      "         212       1.00      1.00      1.00         6\n",
      "         213       1.00      1.00      1.00         6\n",
      "         214       1.00      1.00      1.00         6\n",
      "         215       1.00      1.00      1.00         6\n",
      "         216       1.00      1.00      1.00         6\n",
      "         217       1.00      1.00      1.00         6\n",
      "         218       1.00      1.00      1.00         6\n",
      "         219       1.00      1.00      1.00         6\n",
      "         220       1.00      1.00      1.00         6\n",
      "         221       1.00      1.00      1.00         6\n",
      "         222       1.00      1.00      1.00         6\n",
      "         223       1.00      1.00      1.00         6\n",
      "         224       1.00      1.00      1.00         6\n",
      "         225       1.00      1.00      1.00         6\n",
      "         226       1.00      1.00      1.00         6\n",
      "         227       1.00      1.00      1.00         6\n",
      "         228       1.00      1.00      1.00         6\n",
      "         229       1.00      1.00      1.00         6\n",
      "         230       1.00      1.00      1.00         6\n",
      "         231       1.00      1.00      1.00         6\n",
      "         232       1.00      1.00      1.00         6\n",
      "         233       1.00      1.00      1.00         6\n",
      "         234       1.00      1.00      1.00         6\n",
      "         235       1.00      1.00      1.00         6\n",
      "         236       1.00      1.00      1.00         6\n",
      "         237       1.00      1.00      1.00         6\n",
      "         238       1.00      1.00      1.00         6\n",
      "         239       1.00      1.00      1.00         6\n",
      "         240       1.00      1.00      1.00         6\n",
      "         241       1.00      1.00      1.00         6\n",
      "         242       1.00      1.00      1.00         6\n",
      "         243       1.00      1.00      1.00         6\n",
      "         244       1.00      1.00      1.00         6\n",
      "         245       1.00      1.00      1.00         6\n",
      "         246       1.00      1.00      1.00         6\n",
      "         247       1.00      1.00      1.00         6\n",
      "         248       1.00      1.00      1.00         6\n",
      "         249       1.00      1.00      1.00         6\n",
      "         250       1.00      1.00      1.00         6\n",
      "         251       1.00      1.00      1.00         6\n",
      "         252       1.00      1.00      1.00         6\n",
      "         253       1.00      1.00      1.00         6\n",
      "         254       1.00      1.00      1.00         6\n",
      "         255       1.00      1.00      1.00         6\n",
      "         256       1.00      1.00      1.00         6\n",
      "         257       1.00      1.00      1.00         6\n",
      "         258       1.00      1.00      1.00         6\n",
      "         259       1.00      0.83      0.91         6\n",
      "         260       1.00      1.00      1.00         6\n",
      "         261       1.00      1.00      1.00         6\n",
      "         262       1.00      1.00      1.00         6\n",
      "         263       1.00      1.00      1.00         6\n",
      "         264       1.00      1.00      1.00         6\n",
      "         265       1.00      1.00      1.00         6\n",
      "         266       1.00      1.00      1.00         6\n",
      "         267       1.00      1.00      1.00         6\n",
      "         268       1.00      1.00      1.00         6\n",
      "         269       1.00      1.00      1.00         6\n",
      "         270       1.00      1.00      1.00         6\n",
      "         271       1.00      1.00      1.00         6\n",
      "         272       1.00      1.00      1.00         6\n",
      "         273       1.00      1.00      1.00         6\n",
      "         274       1.00      1.00      1.00         6\n",
      "         275       1.00      1.00      1.00         6\n",
      "         276       1.00      1.00      1.00         6\n",
      "         277       1.00      1.00      1.00         6\n",
      "         278       1.00      1.00      1.00         6\n",
      "         279       1.00      1.00      1.00         6\n",
      "         280       1.00      1.00      1.00         6\n",
      "         281       1.00      1.00      1.00         6\n",
      "         282       1.00      1.00      1.00         6\n",
      "         283       1.00      1.00      1.00         6\n",
      "         284       1.00      1.00      1.00         6\n",
      "         285       1.00      1.00      1.00         6\n",
      "         286       1.00      1.00      1.00         6\n",
      "         287       1.00      1.00      1.00         6\n",
      "         288       1.00      1.00      1.00         6\n",
      "         289       1.00      1.00      1.00         6\n",
      "         290       1.00      1.00      1.00         6\n",
      "         291       1.00      1.00      1.00         6\n",
      "         292       1.00      1.00      1.00         6\n",
      "         293       1.00      1.00      1.00         6\n",
      "         294       1.00      1.00      1.00         6\n",
      "         295       1.00      1.00      1.00         6\n",
      "         296       1.00      1.00      1.00         6\n",
      "         297       1.00      1.00      1.00         6\n",
      "         298       1.00      1.00      1.00         6\n",
      "         299       1.00      1.00      1.00         6\n",
      "         300       1.00      1.00      1.00         6\n",
      "         301       1.00      1.00      1.00         6\n",
      "         302       1.00      1.00      1.00         6\n",
      "         303       1.00      1.00      1.00         6\n",
      "         304       1.00      1.00      1.00         6\n",
      "         305       1.00      1.00      1.00         6\n",
      "         306       1.00      1.00      1.00         6\n",
      "         307       1.00      1.00      1.00         6\n",
      "         308       1.00      1.00      1.00         6\n",
      "         309       1.00      1.00      1.00         6\n",
      "         310       1.00      1.00      1.00         6\n",
      "         311       1.00      1.00      1.00         6\n",
      "         312       1.00      1.00      1.00         6\n",
      "         313       1.00      1.00      1.00         6\n",
      "         314       1.00      1.00      1.00         6\n",
      "         315       1.00      1.00      1.00         6\n",
      "         316       1.00      1.00      1.00         6\n",
      "         317       1.00      1.00      1.00         6\n",
      "         318       1.00      1.00      1.00         6\n",
      "         319       1.00      1.00      1.00         6\n",
      "         320       1.00      1.00      1.00         6\n",
      "         321       1.00      1.00      1.00         6\n",
      "         322       1.00      1.00      1.00         6\n",
      "         323       1.00      1.00      1.00         6\n",
      "         324       1.00      1.00      1.00         6\n",
      "         325       1.00      1.00      1.00         6\n",
      "         326       1.00      1.00      1.00         6\n",
      "         327       1.00      1.00      1.00         6\n",
      "         328       1.00      1.00      1.00         6\n",
      "         329       1.00      1.00      1.00         6\n",
      "         330       1.00      1.00      1.00         6\n",
      "         331       1.00      1.00      1.00         6\n",
      "         332       1.00      1.00      1.00         6\n",
      "         333       1.00      1.00      1.00         6\n",
      "         334       1.00      1.00      1.00         6\n",
      "         335       1.00      1.00      1.00         6\n",
      "         336       1.00      1.00      1.00         6\n",
      "         337       1.00      1.00      1.00         6\n",
      "         338       1.00      1.00      1.00         6\n",
      "         339       1.00      1.00      1.00         6\n",
      "         340       1.00      1.00      1.00         6\n",
      "         341       1.00      1.00      1.00         6\n",
      "         342       1.00      1.00      1.00         6\n",
      "         343       1.00      1.00      1.00         6\n",
      "         344       1.00      1.00      1.00         6\n",
      "         345       1.00      1.00      1.00         6\n",
      "         346       1.00      1.00      1.00         6\n",
      "         347       1.00      1.00      1.00         6\n",
      "         348       1.00      1.00      1.00         6\n",
      "         349       1.00      1.00      1.00         6\n",
      "         350       1.00      1.00      1.00         6\n",
      "\n",
      "    accuracy                           1.00      2100\n",
      "   macro avg       1.00      1.00      1.00      2100\n",
      "weighted avg       1.00      1.00      1.00      2100\n",
      "\n"
     ]
    }
   ],
   "source": [
    "from sklearn.metrics import classification_report\n",
    "print(classification_report(y_test_origin,preds, zero_division=1))"
   ]
  },
  {
   "cell_type": "markdown",
   "id": "d06f6303",
   "metadata": {
    "id": "d06f6303"
   },
   "source": [
    "## Test"
   ]
  },
  {
   "cell_type": "code",
   "execution_count": 322,
   "id": "4202ca7b",
   "metadata": {
    "id": "4202ca7b",
    "outputId": "82f8dd81-adda-4583-9db6-e836e99d3e26"
   },
   "outputs": [
    {
     "data": {
      "text/plain": [
       "700"
      ]
     },
     "execution_count": 322,
     "metadata": {},
     "output_type": "execute_result"
    }
   ],
   "source": [
    "images = glob.glob('./02_face_test/*.bmp')\n",
    "len(images)"
   ]
  },
  {
   "cell_type": "code",
   "execution_count": 323,
   "id": "e4d27715",
   "metadata": {
    "id": "e4d27715"
   },
   "outputs": [],
   "source": [
    "r = re.compile('\\d+')\n",
    "\n",
    "img = [] # 이미지\n",
    "img_num = [] # 이미지 번호\n",
    "\n",
    "for fname in images:\n",
    "    num = r.findall(fname)[1]\n",
    "    img_num.append(num)\n",
    "    im = pilimg.open(fname)\n",
    "    pix = np.array(im)/255. # Normalize\n",
    "    img.append(pix)"
   ]
  },
  {
   "cell_type": "code",
   "execution_count": 324,
   "id": "0cff69ee",
   "metadata": {
    "id": "0cff69ee",
    "outputId": "214923fb-647d-4f1a-ac1a-e97424790554"
   },
   "outputs": [
    {
     "name": "stdout",
     "output_type": "stream",
     "text": [
      "(56, 46)\n",
      "529\n"
     ]
    },
    {
     "data": {
      "image/png": "[encoded data removed]",
      "text/plain": [
       "<Figure size 432x288 with 1 Axes>"
      ]
     },
     "metadata": {
      "needs_background": "light"
     },
     "output_type": "display_data"
    }
   ],
   "source": [
    "# 얼굴 이미지\n",
    "plt.title('Face')\n",
    "plt.imshow(img[0].reshape(56,46), cmap='gray')\n",
    "print(img[0].shape)\n",
    "print(img_num[0])"
   ]
  },
  {
   "cell_type": "code",
   "execution_count": 325,
   "id": "4ab4fcbe",
   "metadata": {
    "id": "4ab4fcbe"
   },
   "outputs": [],
   "source": [
    "X = np.array(img)\n",
    "X = X.astype('float32')\n",
    "X = X.reshape(X.shape[0],56,46,1)"
   ]
  },
  {
   "cell_type": "code",
   "execution_count": 326,
   "id": "d925058d",
   "metadata": {
    "id": "d925058d",
    "outputId": "5389d5b8-d58e-4df4-a909-aa7ab84380b1"
   },
   "outputs": [
    {
     "data": {
      "text/plain": [
       "array([ 80, 348, 232, 137, 168, 146, 138, 309, 329, 150,  52, 158,  84,\n",
       "       326, 107,   5, 308,  54,  56,  68, 163, 335,  40,  32, 329, 290,\n",
       "        82, 209, 270, 241, 261,  63, 225,  26, 109, 152, 325,  58, 117,\n",
       "        80, 177, 271,  86, 312, 321,  80,  65,  76, 167,  19, 267, 185,\n",
       "       239, 206,  92, 233,  33,  94, 242, 202,  72, 224, 214,  14,  53,\n",
       "       231, 208, 289, 324, 194, 310, 271,  32,  83, 265, 340, 227, 287,\n",
       "        46,  20,  52, 277, 268, 215, 323, 177, 186, 164, 297,  35,  76,\n",
       "       127,  43, 125, 192,  96,  97, 150,  50, 197, 339, 113, 317,  56,\n",
       "       214,  24, 256, 221, 108, 263, 309, 231, 101,  62, 109,  21, 258,\n",
       "       288, 217,  72, 260, 183, 275,  60, 213, 168, 254, 102, 112, 231,\n",
       "       136, 149, 266,   3, 269, 125,   3, 345,  28, 267,  23, 199, 180,\n",
       "        59,  51,  37, 179, 185, 216, 191, 285, 192, 194, 225, 181, 297,\n",
       "       254,  80, 279,  62,  22, 211, 184,   2, 277, 221, 131, 347, 293,\n",
       "       193, 284, 345,  10, 227, 127, 201, 225, 312, 275,  73, 171, 320,\n",
       "       196, 239,  87,  66, 277, 230, 190,  51,  80, 159, 211, 106, 337,\n",
       "       251, 123,  32, 173,  93,   5, 120, 304, 111,  85, 106,  49, 239,\n",
       "       224, 192, 212, 218, 239, 115, 332, 281, 125, 153,  75,  94, 183,\n",
       "       276, 162, 149, 123, 333, 123, 220, 276,  33, 334, 197, 163, 162,\n",
       "        38,  26, 306, 283, 190, 347, 312,  82, 329, 237, 310, 159, 348,\n",
       "       221, 214,  36,  95,  43, 347, 239, 294, 152,  97, 224,  44, 101,\n",
       "       132, 311, 221,  69, 290, 325, 124, 335, 339,  45, 110, 201,   6,\n",
       "       252,  34, 254, 247, 211,  48, 278, 239, 142, 167, 334, 113,  50,\n",
       "        67, 143, 267, 203, 303,  28, 313, 228, 176, 294, 173,  21, 117,\n",
       "       227,  74,  82, 225, 171,  66,  98, 306,  98, 178, 210, 268, 128,\n",
       "       168, 289, 225, 305, 317,  70, 166, 174, 187,  15,  12,  59, 295,\n",
       "       197, 320,  78,  80, 162, 221,  61, 267, 259, 244,   9, 129, 207,\n",
       "       233, 151, 105, 190, 324, 169, 257,  53, 262, 176,  81, 291, 257,\n",
       "        86, 193,  99, 247, 331, 148, 163, 336, 188, 285,  39, 325,  55,\n",
       "       154, 188, 234, 247, 137,  32, 213, 233, 126,  71,  96,   9, 133,\n",
       "       100, 134, 136, 319,  17, 147, 195,  34,  35,  95, 299, 225, 273,\n",
       "       124, 129, 178, 233, 105, 295, 212,  51, 117, 279, 164,  61, 182,\n",
       "       121, 158, 204, 238, 248, 151, 246, 337, 194,  55, 118, 240, 100,\n",
       "       279,  27, 224,  91, 209,  46, 131, 311, 332, 222,  53, 240, 231,\n",
       "        42, 166, 225,  80, 239, 175,  71, 161, 264,  85, 337, 256, 103,\n",
       "       220, 198, 313, 199, 188,  65, 173, 269, 186,  84, 256, 130, 223,\n",
       "        77, 190,  29, 137,  78, 262, 180, 157, 187, 171, 233, 286, 116,\n",
       "       221, 225, 309, 240,  10, 191, 322,  17, 157, 316,  81, 252, 156,\n",
       "       289,  43, 267, 205, 327,  24, 214, 162, 231, 227,  47,  89, 106,\n",
       "       212, 270, 267,  40, 189, 156, 297, 233, 239, 303,  88, 107, 288,\n",
       "       153, 127,  75,  54, 323, 231, 191, 311, 332, 231,  29, 243, 224,\n",
       "       115, 303, 155, 333, 292,  74, 107,  14, 163, 258, 104, 283, 141,\n",
       "        35, 225, 319, 169, 242, 291, 187, 259,   7, 273, 187, 343, 280,\n",
       "        30, 200, 132, 331, 334, 281, 141,  88, 253, 349,  73, 236, 229,\n",
       "       248, 114, 213, 143,  84, 266, 176, 116,  17, 136, 261, 227, 155,\n",
       "       213,   8,  27, 210,  93,  90, 226, 195, 231, 119, 288,  84, 225,\n",
       "       129,  49,  89, 176, 118, 305, 312, 200,  47, 138, 214,  45,  30,\n",
       "       130, 225,  37, 104, 146, 179, 211, 187,  90, 250,  26,  26,  68,\n",
       "       154,  18, 290,   4, 250,  79, 346, 224, 330, 232, 160,  95, 297,\n",
       "       294, 161, 213, 320, 266, 236, 247,  41, 286, 239,  16, 265, 115,\n",
       "       160, 285, 112, 248,  57,  16, 221, 199, 265,   4, 199, 211,  88,\n",
       "       217,  11, 231,  58,  36, 157, 339, 257, 202, 242,  72, 327, 264,\n",
       "        85,  85,  98, 107, 133, 324,  16,  41, 338,  12, 315, 287, 215,\n",
       "       197, 188, 114, 128, 175,  61, 203, 127,  80, 255,  11, 328, 223,\n",
       "       341, 196, 181, 282, 196, 195, 140, 224, 208,  11, 252])"
      ]
     },
     "execution_count": 326,
     "metadata": {},
     "output_type": "execute_result"
    }
   ],
   "source": [
    "preds = np.argmax(model.predict(X), axis=1)\n",
    "preds"
   ]
  },
  {
   "cell_type": "code",
   "execution_count": 327,
   "id": "a4c7dafa",
   "metadata": {
    "id": "a4c7dafa",
    "outputId": "8186e8c4-a3f1-440a-d4ad-3ff6e2ee2fac"
   },
   "outputs": [
    {
     "data": {
      "text/html": [
       "<div>\n",
       "<style scoped>\n",
       "    .dataframe tbody tr th:only-of-type {\n",
       "        vertical-align: middle;\n",
       "    }\n",
       "\n",
       "    .dataframe tbody tr th {\n",
       "        vertical-align: top;\n",
       "    }\n",
       "\n",
       "    .dataframe thead th {\n",
       "        text-align: right;\n",
       "    }\n",
       "</style>\n",
       "<table border=\"1\" class=\"dataframe\">\n",
       "  <thead>\n",
       "    <tr style=\"text-align: right;\">\n",
       "      <th></th>\n",
       "      <th>Image</th>\n",
       "      <th>Answer</th>\n",
       "    </tr>\n",
       "  </thead>\n",
       "  <tbody>\n",
       "    <tr>\n",
       "      <th>15</th>\n",
       "      <td>1</td>\n",
       "      <td>5</td>\n",
       "    </tr>\n",
       "    <tr>\n",
       "      <th>28</th>\n",
       "      <td>2</td>\n",
       "      <td>270</td>\n",
       "    </tr>\n",
       "    <tr>\n",
       "      <th>359</th>\n",
       "      <td>3</td>\n",
       "      <td>188</td>\n",
       "    </tr>\n",
       "    <tr>\n",
       "      <th>248</th>\n",
       "      <td>4</td>\n",
       "      <td>214</td>\n",
       "    </tr>\n",
       "    <tr>\n",
       "      <th>290</th>\n",
       "      <td>5</td>\n",
       "      <td>303</td>\n",
       "    </tr>\n",
       "    <tr>\n",
       "      <th>...</th>\n",
       "      <td>...</td>\n",
       "      <td>...</td>\n",
       "    </tr>\n",
       "    <tr>\n",
       "      <th>199</th>\n",
       "      <td>696</td>\n",
       "      <td>93</td>\n",
       "    </tr>\n",
       "    <tr>\n",
       "      <th>402</th>\n",
       "      <td>697</td>\n",
       "      <td>182</td>\n",
       "    </tr>\n",
       "    <tr>\n",
       "      <th>481</th>\n",
       "      <td>698</td>\n",
       "      <td>289</td>\n",
       "    </tr>\n",
       "    <tr>\n",
       "      <th>534</th>\n",
       "      <td>699</td>\n",
       "      <td>225</td>\n",
       "    </tr>\n",
       "    <tr>\n",
       "      <th>551</th>\n",
       "      <td>700</td>\n",
       "      <td>281</td>\n",
       "    </tr>\n",
       "  </tbody>\n",
       "</table>\n",
       "<p>700 rows × 2 columns</p>\n",
       "</div>"
      ],
      "text/plain": [
       "     Image  Answer\n",
       "15       1       5\n",
       "28       2     270\n",
       "359      3     188\n",
       "248      4     214\n",
       "290      5     303\n",
       "..     ...     ...\n",
       "199    696      93\n",
       "402    697     182\n",
       "481    698     289\n",
       "534    699     225\n",
       "551    700     281\n",
       "\n",
       "[700 rows x 2 columns]"
      ]
     },
     "execution_count": 327,
     "metadata": {},
     "output_type": "execute_result"
    }
   ],
   "source": [
    "import pandas as pd\n",
    "res_df = pd.DataFrame(img_num, columns=['Image'], dtype='int32')\n",
    "res_df['Answer'] = pd.Series(preds, dtype='int32')\n",
    "res_df.sort_values(by=['Image'], axis=0, inplace=True)\n",
    "res_df"
   ]
  },
  {
   "cell_type": "code",
   "execution_count": 328,
   "id": "8f830f6b",
   "metadata": {
    "id": "8f830f6b",
    "outputId": "b60c24ed-7a50-400f-fffb-0aee9b00dedf"
   },
   "outputs": [
    {
     "data": {
      "text/plain": [
       "225    11\n",
       "239     9\n",
       "231     9\n",
       "80      8\n",
       "221     7\n",
       "       ..\n",
       "142     1\n",
       "140     1\n",
       "134     1\n",
       "126     1\n",
       "349     1\n",
       "Name: Answer, Length: 320, dtype: int64"
      ]
     },
     "execution_count": 328,
     "metadata": {},
     "output_type": "execute_result"
    }
   ],
   "source": [
    "res_df['Answer'].value_counts()"
   ]
  },
  {
   "cell_type": "code",
   "execution_count": 329,
   "id": "69e17fe0",
   "metadata": {
    "id": "69e17fe0"
   },
   "outputs": [],
   "source": [
    "res_df.to_csv('./1871085_얼굴_1차_답안v8.csv', index=False)"
   ]
  },
  {
   "cell_type": "code",
   "execution_count": null,
   "id": "92e0d2e3",
   "metadata": {},
   "outputs": [],
   "source": []
  }
 ],
 "metadata": {
  "accelerator": "GPU",
  "colab": {
   "collapsed_sections": [
    "d06f6303"
   ],
   "name": "1871085_얼굴_1차_코드.ipynb",
   "provenance": []
  },
  "kernelspec": {
   "display_name": "Python 3",
   "language": "python",
   "name": "python3"
  },
  "language_info": {
   "codemirror_mode": {
    "name": "ipython",
    "version": 3
   },
   "file_extension": ".py",
   "mimetype": "text/x-python",
   "name": "python",
   "nbconvert_exporter": "python",
   "pygments_lexer": "ipython3",
   "version": "3.8.8"
  }
 },
 "nbformat": 4,
 "nbformat_minor": 5
}
